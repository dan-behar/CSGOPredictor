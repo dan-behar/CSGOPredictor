{
 "cells": [
  {
   "attachments": {},
   "cell_type": "markdown",
   "metadata": {},
   "source": [
    "## *Game Winner* - Machine Learning Models Final Project\n",
    "## <font size=5 color='gray'>Daniel Behar</font>"
   ]
  },
  {
   "attachments": {},
   "cell_type": "markdown",
   "metadata": {},
   "source": [
    "*Context of the game:* CS:GO is a tactical classic shooter game. There are plenty of game modes, but for this model I picked only Competitive Mode data. In this mode, there's two teams (CT and Terrorist) with 5 players each team. They play for a best of 30 rounds (16 rounds winner wins the game) and each round is limited to 1 minute and 55 seconds. At the start, one team plays as CT and the other as Terrorist. After 15 rounds played, the teams swap side. This dataset holds only 8 different maps from the game. You win a round as Terrorist by either planting the bomb and making sure it explodes, or by eliminating the other team. You win a round as CT by either eliminating the other team, or by disarming the bomb after it was planted."
   ]
  },
  {
   "attachments": {},
   "cell_type": "markdown",
   "metadata": {},
   "source": [
    "The goal of the project is to select and create the best prediction algorithm to predict which of the two teams of the game will win the round, depending on previous results and their decisions preparing for the round. This is the last project of Machine Learning Models course.\n",
    "#### Structure of the notebook:\n",
    "* `Libraries`: Includes a briefly description of where they were used in the process\n",
    "* `Data Export`: Includes the data export, separation in train-test and exploration\n",
    "* `Cleaning Pipelines`: Building the three pipelines that I used\n",
    "* `Model`: Building the pipeline where I'm placing my model\n",
    "* `Saving Model Pipeline`: Saving the pipeline where I built my model"
   ]
  },
  {
   "attachments": {},
   "cell_type": "markdown",
   "metadata": {},
   "source": [
    "## Importing Libraries"
   ]
  },
  {
   "cell_type": "code",
   "execution_count": 9,
   "metadata": {},
   "outputs": [],
   "source": [
    "#General use libraries\n",
    "import pandas as pd\n",
    "import matplotlib.pyplot as plt \n",
    "import seaborn as sns\n",
    "import numpy as np\n",
    "\n",
    "#To split into train and test\n",
    "from sklearn.model_selection import train_test_split\n",
    "\n",
    "#Full Pipeline\n",
    "from sklearn.compose import ColumnTransformer\n",
    "\n",
    "#Dates Pipeline\n",
    "from sklearn.base import BaseEstimator, TransformerMixin\n",
    "\n",
    "#Numeric Pipeline\n",
    "from sklearn.pipeline import Pipeline\n",
    "from sklearn.preprocessing import StandardScaler\n",
    "from sklearn.impute import SimpleImputer\n",
    "\n",
    "#Categoric Pipeline\n",
    "from sklearn.preprocessing import OneHotEncoder\n",
    "\n",
    "#Model\n",
    "from sklearn.metrics import confusion_matrix, f1_score, precision_score, recall_score\n",
    "from sklearn.tree import DecisionTreeClassifier\n",
    "import joblib\n",
    "\n",
    "#Checking for strange values\n",
    "def unique(column):\n",
    "    return data[column].value_counts()\n",
    "\n",
    "%matplotlib inline"
   ]
  },
  {
   "attachments": {},
   "cell_type": "markdown",
   "metadata": {},
   "source": [
    "## Data\n",
    "* Getting the data\n",
    "* Extracting round_winner from the set\n",
    "* Creating train and test sets from the dataset"
   ]
  },
  {
   "cell_type": "code",
   "execution_count": 10,
   "metadata": {},
   "outputs": [],
   "source": [
    "#Data will be the data that I'll use to create and train the model, datat is the data for which I want to predict the isFraud variable\n",
    "data = pd.read_csv(\"csgo.csv\")"
   ]
  },
  {
   "cell_type": "code",
   "execution_count": 11,
   "metadata": {},
   "outputs": [
    {
     "data": {
      "text/html": [
       "<div>\n",
       "<style scoped>\n",
       "    .dataframe tbody tr th:only-of-type {\n",
       "        vertical-align: middle;\n",
       "    }\n",
       "\n",
       "    .dataframe tbody tr th {\n",
       "        vertical-align: top;\n",
       "    }\n",
       "\n",
       "    .dataframe thead th {\n",
       "        text-align: right;\n",
       "    }\n",
       "</style>\n",
       "<table border=\"1\" class=\"dataframe\">\n",
       "  <thead>\n",
       "    <tr style=\"text-align: right;\">\n",
       "      <th></th>\n",
       "      <th>time_left</th>\n",
       "      <th>ct_score</th>\n",
       "      <th>t_score</th>\n",
       "      <th>map</th>\n",
       "      <th>bomb_planted</th>\n",
       "      <th>ct_health</th>\n",
       "      <th>t_health</th>\n",
       "      <th>ct_armor</th>\n",
       "      <th>t_armor</th>\n",
       "      <th>ct_money</th>\n",
       "      <th>...</th>\n",
       "      <th>t_grenade_flashbang</th>\n",
       "      <th>ct_grenade_smokegrenade</th>\n",
       "      <th>t_grenade_smokegrenade</th>\n",
       "      <th>ct_grenade_incendiarygrenade</th>\n",
       "      <th>t_grenade_incendiarygrenade</th>\n",
       "      <th>ct_grenade_molotovgrenade</th>\n",
       "      <th>t_grenade_molotovgrenade</th>\n",
       "      <th>ct_grenade_decoygrenade</th>\n",
       "      <th>t_grenade_decoygrenade</th>\n",
       "      <th>round_winner</th>\n",
       "    </tr>\n",
       "  </thead>\n",
       "  <tbody>\n",
       "    <tr>\n",
       "      <th>0</th>\n",
       "      <td>175.0</td>\n",
       "      <td>0.0</td>\n",
       "      <td>0.0</td>\n",
       "      <td>de_dust2</td>\n",
       "      <td>False</td>\n",
       "      <td>500.0</td>\n",
       "      <td>500.0</td>\n",
       "      <td>0.0</td>\n",
       "      <td>0.0</td>\n",
       "      <td>4000.0</td>\n",
       "      <td>...</td>\n",
       "      <td>0.0</td>\n",
       "      <td>0.0</td>\n",
       "      <td>0.0</td>\n",
       "      <td>0.0</td>\n",
       "      <td>0.0</td>\n",
       "      <td>0.0</td>\n",
       "      <td>0.0</td>\n",
       "      <td>0.0</td>\n",
       "      <td>0.0</td>\n",
       "      <td>CT</td>\n",
       "    </tr>\n",
       "    <tr>\n",
       "      <th>1</th>\n",
       "      <td>.156.03</td>\n",
       "      <td>0.0</td>\n",
       "      <td>0.0</td>\n",
       "      <td>de_dust2</td>\n",
       "      <td>False</td>\n",
       "      <td>500.0</td>\n",
       "      <td>500.0</td>\n",
       "      <td>400.0</td>\n",
       "      <td>300.0</td>\n",
       "      <td>600.0</td>\n",
       "      <td>...</td>\n",
       "      <td>0.0</td>\n",
       "      <td>0.0</td>\n",
       "      <td>2.0</td>\n",
       "      <td>0.0</td>\n",
       "      <td>0.0</td>\n",
       "      <td>0.0</td>\n",
       "      <td>0.0</td>\n",
       "      <td>0.0</td>\n",
       "      <td>0.0</td>\n",
       "      <td>CT</td>\n",
       "    </tr>\n",
       "    <tr>\n",
       "      <th>2</th>\n",
       "      <td>.96.03</td>\n",
       "      <td>0.0</td>\n",
       "      <td>0.0</td>\n",
       "      <td>de_dust2</td>\n",
       "      <td>False</td>\n",
       "      <td>391.0</td>\n",
       "      <td>400.0</td>\n",
       "      <td>294.0</td>\n",
       "      <td>200.0</td>\n",
       "      <td>750.0</td>\n",
       "      <td>...</td>\n",
       "      <td>0.0</td>\n",
       "      <td>0.0</td>\n",
       "      <td>2.0</td>\n",
       "      <td>0.0</td>\n",
       "      <td>0.0</td>\n",
       "      <td>0.0</td>\n",
       "      <td>0.0</td>\n",
       "      <td>0.0</td>\n",
       "      <td>0.0</td>\n",
       "      <td>CT</td>\n",
       "    </tr>\n",
       "    <tr>\n",
       "      <th>3</th>\n",
       "      <td>.76.03</td>\n",
       "      <td>0.0</td>\n",
       "      <td>0.0</td>\n",
       "      <td>de_dust2</td>\n",
       "      <td>False</td>\n",
       "      <td>391.0</td>\n",
       "      <td>400.0</td>\n",
       "      <td>294.0</td>\n",
       "      <td>200.0</td>\n",
       "      <td>750.0</td>\n",
       "      <td>...</td>\n",
       "      <td>0.0</td>\n",
       "      <td>0.0</td>\n",
       "      <td>0.0</td>\n",
       "      <td>0.0</td>\n",
       "      <td>0.0</td>\n",
       "      <td>0.0</td>\n",
       "      <td>0.0</td>\n",
       "      <td>0.0</td>\n",
       "      <td>0.0</td>\n",
       "      <td>CT</td>\n",
       "    </tr>\n",
       "    <tr>\n",
       "      <th>4</th>\n",
       "      <td>.174.97</td>\n",
       "      <td>1.0</td>\n",
       "      <td>0.0</td>\n",
       "      <td>de_dust2</td>\n",
       "      <td>False</td>\n",
       "      <td>500.0</td>\n",
       "      <td>500.0</td>\n",
       "      <td>192.0</td>\n",
       "      <td>0.0</td>\n",
       "      <td>18350.0</td>\n",
       "      <td>...</td>\n",
       "      <td>0.0</td>\n",
       "      <td>0.0</td>\n",
       "      <td>0.0</td>\n",
       "      <td>0.0</td>\n",
       "      <td>0.0</td>\n",
       "      <td>0.0</td>\n",
       "      <td>0.0</td>\n",
       "      <td>0.0</td>\n",
       "      <td>0.0</td>\n",
       "      <td>CT</td>\n",
       "    </tr>\n",
       "  </tbody>\n",
       "</table>\n",
       "<p>5 rows × 97 columns</p>\n",
       "</div>"
      ],
      "text/plain": [
       "  time_left  ct_score  t_score       map  bomb_planted  ct_health  t_health  \\\n",
       "0     175.0       0.0      0.0  de_dust2         False      500.0     500.0   \n",
       "1   .156.03       0.0      0.0  de_dust2         False      500.0     500.0   \n",
       "2    .96.03       0.0      0.0  de_dust2         False      391.0     400.0   \n",
       "3    .76.03       0.0      0.0  de_dust2         False      391.0     400.0   \n",
       "4   .174.97       1.0      0.0  de_dust2         False      500.0     500.0   \n",
       "\n",
       "   ct_armor  t_armor  ct_money  ...  t_grenade_flashbang  \\\n",
       "0       0.0      0.0    4000.0  ...                  0.0   \n",
       "1     400.0    300.0     600.0  ...                  0.0   \n",
       "2     294.0    200.0     750.0  ...                  0.0   \n",
       "3     294.0    200.0     750.0  ...                  0.0   \n",
       "4     192.0      0.0   18350.0  ...                  0.0   \n",
       "\n",
       "   ct_grenade_smokegrenade  t_grenade_smokegrenade  \\\n",
       "0                      0.0                     0.0   \n",
       "1                      0.0                     2.0   \n",
       "2                      0.0                     2.0   \n",
       "3                      0.0                     0.0   \n",
       "4                      0.0                     0.0   \n",
       "\n",
       "   ct_grenade_incendiarygrenade  t_grenade_incendiarygrenade  \\\n",
       "0                           0.0                          0.0   \n",
       "1                           0.0                          0.0   \n",
       "2                           0.0                          0.0   \n",
       "3                           0.0                          0.0   \n",
       "4                           0.0                          0.0   \n",
       "\n",
       "   ct_grenade_molotovgrenade  t_grenade_molotovgrenade  \\\n",
       "0                        0.0                       0.0   \n",
       "1                        0.0                       0.0   \n",
       "2                        0.0                       0.0   \n",
       "3                        0.0                       0.0   \n",
       "4                        0.0                       0.0   \n",
       "\n",
       "   ct_grenade_decoygrenade  t_grenade_decoygrenade  round_winner  \n",
       "0                      0.0                     0.0            CT  \n",
       "1                      0.0                     0.0            CT  \n",
       "2                      0.0                     0.0            CT  \n",
       "3                      0.0                     0.0            CT  \n",
       "4                      0.0                     0.0            CT  \n",
       "\n",
       "[5 rows x 97 columns]"
      ]
     },
     "execution_count": 11,
     "metadata": {},
     "output_type": "execute_result"
    }
   ],
   "source": [
    "data.head(5)"
   ]
  },
  {
   "attachments": {},
   "cell_type": "markdown",
   "metadata": {},
   "source": [
    "Distribution of T and CT in the data (distribution of winners)"
   ]
  },
  {
   "cell_type": "code",
   "execution_count": 12,
   "metadata": {},
   "outputs": [
    {
     "data": {
      "text/plain": [
       "T     62406\n",
       "CT    60004\n",
       "Name: round_winner, dtype: int64"
      ]
     },
     "execution_count": 12,
     "metadata": {},
     "output_type": "execute_result"
    }
   ],
   "source": [
    "# The predicted value is balanced\n",
    "unique(\"round_winner\")"
   ]
  },
  {
   "cell_type": "code",
   "execution_count": 13,
   "metadata": {},
   "outputs": [
    {
     "name": "stdout",
     "output_type": "stream",
     "text": [
      "(122410, 96)\n",
      "(122410,)\n"
     ]
    }
   ],
   "source": [
    "y = data.loc[:,\"round_winner\"]\n",
    "data.drop([\"round_winner\"],axis=1,inplace=True)\n",
    "print(data.shape)\n",
    "print(y.shape)"
   ]
  },
  {
   "attachments": {},
   "cell_type": "markdown",
   "metadata": {},
   "source": [
    "There are some guns in the game that were not used, so the model can't know their influence in a match. For that reason I deleted all columns with a grand total of 0"
   ]
  },
  {
   "cell_type": "code",
   "execution_count": 14,
   "metadata": {},
   "outputs": [
    {
     "name": "stdout",
     "output_type": "stream",
     "text": [
      "(122410, 90)\n"
     ]
    }
   ],
   "source": [
    "# calculate the sum of each column\n",
    "column_sums = data.sum()\n",
    "\n",
    "# select the columns where the sum is zero\n",
    "columns_to_drop = column_sums.loc[column_sums == 0].index\n",
    "\n",
    "# drop the selected columns from the DataFrame\n",
    "data = data.drop(columns=columns_to_drop)\n",
    "print(data.shape)"
   ]
  },
  {
   "cell_type": "code",
   "execution_count": 15,
   "metadata": {},
   "outputs": [],
   "source": [
    "X_train, X_test, y_train, y_test = train_test_split(data, y, test_size=0.3, random_state=20)"
   ]
  },
  {
   "attachments": {},
   "cell_type": "markdown",
   "metadata": {},
   "source": [
    "### Exploring data\n",
    "* Search for NA values and not normal observations\n",
    "* Searching for relevant information about the data"
   ]
  },
  {
   "cell_type": "code",
   "execution_count": 16,
   "metadata": {},
   "outputs": [
    {
     "data": {
      "text/plain": [
       "array(['CT', 'T'], dtype=object)"
      ]
     },
     "execution_count": 16,
     "metadata": {},
     "output_type": "execute_result"
    }
   ],
   "source": [
    "np.unique(y)"
   ]
  },
  {
   "cell_type": "code",
   "execution_count": 17,
   "metadata": {},
   "outputs": [
    {
     "data": {
      "text/html": [
       "<div>\n",
       "<style scoped>\n",
       "    .dataframe tbody tr th:only-of-type {\n",
       "        vertical-align: middle;\n",
       "    }\n",
       "\n",
       "    .dataframe tbody tr th {\n",
       "        vertical-align: top;\n",
       "    }\n",
       "\n",
       "    .dataframe thead th {\n",
       "        text-align: right;\n",
       "    }\n",
       "</style>\n",
       "<table border=\"1\" class=\"dataframe\">\n",
       "  <thead>\n",
       "    <tr style=\"text-align: right;\">\n",
       "      <th></th>\n",
       "      <th>index</th>\n",
       "      <th>%NAs</th>\n",
       "    </tr>\n",
       "  </thead>\n",
       "  <tbody>\n",
       "    <tr>\n",
       "      <th>0</th>\n",
       "      <td>time_left</td>\n",
       "      <td>0.0</td>\n",
       "    </tr>\n",
       "    <tr>\n",
       "      <th>1</th>\n",
       "      <td>ct_score</td>\n",
       "      <td>0.0</td>\n",
       "    </tr>\n",
       "    <tr>\n",
       "      <th>2</th>\n",
       "      <td>t_score</td>\n",
       "      <td>0.0</td>\n",
       "    </tr>\n",
       "    <tr>\n",
       "      <th>3</th>\n",
       "      <td>map</td>\n",
       "      <td>0.0</td>\n",
       "    </tr>\n",
       "    <tr>\n",
       "      <th>4</th>\n",
       "      <td>bomb_planted</td>\n",
       "      <td>0.0</td>\n",
       "    </tr>\n",
       "    <tr>\n",
       "      <th>...</th>\n",
       "      <td>...</td>\n",
       "      <td>...</td>\n",
       "    </tr>\n",
       "    <tr>\n",
       "      <th>85</th>\n",
       "      <td>t_grenade_incendiarygrenade</td>\n",
       "      <td>0.0</td>\n",
       "    </tr>\n",
       "    <tr>\n",
       "      <th>86</th>\n",
       "      <td>ct_grenade_molotovgrenade</td>\n",
       "      <td>0.0</td>\n",
       "    </tr>\n",
       "    <tr>\n",
       "      <th>87</th>\n",
       "      <td>t_grenade_molotovgrenade</td>\n",
       "      <td>0.0</td>\n",
       "    </tr>\n",
       "    <tr>\n",
       "      <th>88</th>\n",
       "      <td>ct_grenade_decoygrenade</td>\n",
       "      <td>0.0</td>\n",
       "    </tr>\n",
       "    <tr>\n",
       "      <th>89</th>\n",
       "      <td>t_grenade_decoygrenade</td>\n",
       "      <td>0.0</td>\n",
       "    </tr>\n",
       "  </tbody>\n",
       "</table>\n",
       "<p>90 rows × 2 columns</p>\n",
       "</div>"
      ],
      "text/plain": [
       "                          index  %NAs\n",
       "0                     time_left   0.0\n",
       "1                      ct_score   0.0\n",
       "2                       t_score   0.0\n",
       "3                           map   0.0\n",
       "4                  bomb_planted   0.0\n",
       "..                          ...   ...\n",
       "85  t_grenade_incendiarygrenade   0.0\n",
       "86    ct_grenade_molotovgrenade   0.0\n",
       "87     t_grenade_molotovgrenade   0.0\n",
       "88      ct_grenade_decoygrenade   0.0\n",
       "89       t_grenade_decoygrenade   0.0\n",
       "\n",
       "[90 rows x 2 columns]"
      ]
     },
     "execution_count": 17,
     "metadata": {},
     "output_type": "execute_result"
    }
   ],
   "source": [
    "# % of NAs for each column\n",
    "nas = pd.DataFrame(data.isna().sum()/data.shape[0], columns = ['%NAs']).reset_index()\n",
    "nas"
   ]
  },
  {
   "attachments": {},
   "cell_type": "markdown",
   "metadata": {},
   "source": [
    "Because this data was extracted from servers in the game, there are no NAs. All the NULL values were translated to 0"
   ]
  },
  {
   "cell_type": "code",
   "execution_count": 18,
   "metadata": {},
   "outputs": [
    {
     "data": {
      "text/plain": [
       "de_inferno     23811\n",
       "de_dust2       22144\n",
       "de_nuke        19025\n",
       "de_mirage      18576\n",
       "de_overpass    14081\n",
       "de_train       13491\n",
       "de_vertigo     11137\n",
       "de_cache         145\n",
       "Name: map, dtype: int64"
      ]
     },
     "execution_count": 18,
     "metadata": {},
     "output_type": "execute_result"
    }
   ],
   "source": [
    "unique(\"map\")\n"
   ]
  },
  {
   "attachments": {},
   "cell_type": "markdown",
   "metadata": {},
   "source": [
    "Data behavior"
   ]
  },
  {
   "cell_type": "code",
   "execution_count": 39,
   "metadata": {},
   "outputs": [
    {
     "data": {
      "text/html": [
       "<div>\n",
       "<style scoped>\n",
       "    .dataframe tbody tr th:only-of-type {\n",
       "        vertical-align: middle;\n",
       "    }\n",
       "\n",
       "    .dataframe tbody tr th {\n",
       "        vertical-align: top;\n",
       "    }\n",
       "\n",
       "    .dataframe thead th {\n",
       "        text-align: right;\n",
       "    }\n",
       "</style>\n",
       "<table border=\"1\" class=\"dataframe\">\n",
       "  <thead>\n",
       "    <tr style=\"text-align: right;\">\n",
       "      <th></th>\n",
       "      <th>ct_score</th>\n",
       "      <th>t_score</th>\n",
       "      <th>ct_health</th>\n",
       "      <th>t_health</th>\n",
       "      <th>ct_armor</th>\n",
       "      <th>t_armor</th>\n",
       "      <th>ct_money</th>\n",
       "      <th>t_money</th>\n",
       "      <th>ct_helmets</th>\n",
       "      <th>t_helmets</th>\n",
       "      <th>...</th>\n",
       "      <th>t_grenade_flashbang</th>\n",
       "      <th>ct_grenade_smokegrenade</th>\n",
       "      <th>t_grenade_smokegrenade</th>\n",
       "      <th>ct_grenade_incendiarygrenade</th>\n",
       "      <th>t_grenade_incendiarygrenade</th>\n",
       "      <th>ct_grenade_molotovgrenade</th>\n",
       "      <th>t_grenade_molotovgrenade</th>\n",
       "      <th>ct_grenade_decoygrenade</th>\n",
       "      <th>t_grenade_decoygrenade</th>\n",
       "      <th>Fee</th>\n",
       "    </tr>\n",
       "  </thead>\n",
       "  <tbody>\n",
       "    <tr>\n",
       "      <th>count</th>\n",
       "      <td>122410.000000</td>\n",
       "      <td>122410.000000</td>\n",
       "      <td>122410.000000</td>\n",
       "      <td>122410.000000</td>\n",
       "      <td>122410.000000</td>\n",
       "      <td>122410.000000</td>\n",
       "      <td>122410.000000</td>\n",
       "      <td>122410.000000</td>\n",
       "      <td>122410.000000</td>\n",
       "      <td>122410.000000</td>\n",
       "      <td>...</td>\n",
       "      <td>122410.000000</td>\n",
       "      <td>122410.000000</td>\n",
       "      <td>122410.000000</td>\n",
       "      <td>122410.000000</td>\n",
       "      <td>122410.000000</td>\n",
       "      <td>122410.000000</td>\n",
       "      <td>122410.000000</td>\n",
       "      <td>122410.000000</td>\n",
       "      <td>122410.000000</td>\n",
       "      <td>1941.0</td>\n",
       "    </tr>\n",
       "    <tr>\n",
       "      <th>mean</th>\n",
       "      <td>6.647178</td>\n",
       "      <td>6.715244</td>\n",
       "      <td>412.106568</td>\n",
       "      <td>402.713684</td>\n",
       "      <td>314.142121</td>\n",
       "      <td>298.444670</td>\n",
       "      <td>9789.023773</td>\n",
       "      <td>11241.036680</td>\n",
       "      <td>2.053901</td>\n",
       "      <td>2.773638</td>\n",
       "      <td>...</td>\n",
       "      <td>1.858100</td>\n",
       "      <td>1.540814</td>\n",
       "      <td>1.627146</td>\n",
       "      <td>1.001969</td>\n",
       "      <td>0.019819</td>\n",
       "      <td>0.048011</td>\n",
       "      <td>1.352095</td>\n",
       "      <td>0.027694</td>\n",
       "      <td>0.025750</td>\n",
       "      <td>16.0</td>\n",
       "    </tr>\n",
       "    <tr>\n",
       "      <th>std</th>\n",
       "      <td>4.620366</td>\n",
       "      <td>4.650145</td>\n",
       "      <td>132.293290</td>\n",
       "      <td>139.918173</td>\n",
       "      <td>171.029736</td>\n",
       "      <td>174.576545</td>\n",
       "      <td>11215.042286</td>\n",
       "      <td>12162.806759</td>\n",
       "      <td>1.841470</td>\n",
       "      <td>2.010915</td>\n",
       "      <td>...</td>\n",
       "      <td>1.794473</td>\n",
       "      <td>1.737804</td>\n",
       "      <td>1.829147</td>\n",
       "      <td>1.458084</td>\n",
       "      <td>0.143933</td>\n",
       "      <td>0.227669</td>\n",
       "      <td>1.663246</td>\n",
       "      <td>0.169531</td>\n",
       "      <td>0.164162</td>\n",
       "      <td>0.0</td>\n",
       "    </tr>\n",
       "    <tr>\n",
       "      <th>min</th>\n",
       "      <td>0.000000</td>\n",
       "      <td>0.000000</td>\n",
       "      <td>0.000000</td>\n",
       "      <td>0.000000</td>\n",
       "      <td>0.000000</td>\n",
       "      <td>0.000000</td>\n",
       "      <td>0.000000</td>\n",
       "      <td>0.000000</td>\n",
       "      <td>0.000000</td>\n",
       "      <td>0.000000</td>\n",
       "      <td>...</td>\n",
       "      <td>0.000000</td>\n",
       "      <td>0.000000</td>\n",
       "      <td>0.000000</td>\n",
       "      <td>0.000000</td>\n",
       "      <td>0.000000</td>\n",
       "      <td>0.000000</td>\n",
       "      <td>0.000000</td>\n",
       "      <td>0.000000</td>\n",
       "      <td>0.000000</td>\n",
       "      <td>16.0</td>\n",
       "    </tr>\n",
       "    <tr>\n",
       "      <th>25%</th>\n",
       "      <td>3.000000</td>\n",
       "      <td>3.000000</td>\n",
       "      <td>350.000000</td>\n",
       "      <td>322.000000</td>\n",
       "      <td>194.000000</td>\n",
       "      <td>174.000000</td>\n",
       "      <td>1300.000000</td>\n",
       "      <td>1550.000000</td>\n",
       "      <td>0.000000</td>\n",
       "      <td>0.000000</td>\n",
       "      <td>...</td>\n",
       "      <td>0.000000</td>\n",
       "      <td>0.000000</td>\n",
       "      <td>0.000000</td>\n",
       "      <td>0.000000</td>\n",
       "      <td>0.000000</td>\n",
       "      <td>0.000000</td>\n",
       "      <td>0.000000</td>\n",
       "      <td>0.000000</td>\n",
       "      <td>0.000000</td>\n",
       "      <td>16.0</td>\n",
       "    </tr>\n",
       "    <tr>\n",
       "      <th>50%</th>\n",
       "      <td>6.000000</td>\n",
       "      <td>6.000000</td>\n",
       "      <td>500.000000</td>\n",
       "      <td>500.000000</td>\n",
       "      <td>377.000000</td>\n",
       "      <td>334.000000</td>\n",
       "      <td>5500.000000</td>\n",
       "      <td>7150.000000</td>\n",
       "      <td>2.000000</td>\n",
       "      <td>3.000000</td>\n",
       "      <td>...</td>\n",
       "      <td>1.000000</td>\n",
       "      <td>1.000000</td>\n",
       "      <td>1.000000</td>\n",
       "      <td>0.000000</td>\n",
       "      <td>0.000000</td>\n",
       "      <td>0.000000</td>\n",
       "      <td>1.000000</td>\n",
       "      <td>0.000000</td>\n",
       "      <td>0.000000</td>\n",
       "      <td>16.0</td>\n",
       "    </tr>\n",
       "    <tr>\n",
       "      <th>75%</th>\n",
       "      <td>10.000000</td>\n",
       "      <td>10.000000</td>\n",
       "      <td>500.000000</td>\n",
       "      <td>500.000000</td>\n",
       "      <td>486.000000</td>\n",
       "      <td>468.000000</td>\n",
       "      <td>14600.000000</td>\n",
       "      <td>18000.000000</td>\n",
       "      <td>4.000000</td>\n",
       "      <td>5.000000</td>\n",
       "      <td>...</td>\n",
       "      <td>3.000000</td>\n",
       "      <td>3.000000</td>\n",
       "      <td>3.000000</td>\n",
       "      <td>2.000000</td>\n",
       "      <td>0.000000</td>\n",
       "      <td>0.000000</td>\n",
       "      <td>2.000000</td>\n",
       "      <td>0.000000</td>\n",
       "      <td>0.000000</td>\n",
       "      <td>16.0</td>\n",
       "    </tr>\n",
       "    <tr>\n",
       "      <th>max</th>\n",
       "      <td>16.000000</td>\n",
       "      <td>16.000000</td>\n",
       "      <td>500.000000</td>\n",
       "      <td>500.000000</td>\n",
       "      <td>500.000000</td>\n",
       "      <td>500.000000</td>\n",
       "      <td>80000.000000</td>\n",
       "      <td>80000.000000</td>\n",
       "      <td>5.000000</td>\n",
       "      <td>5.000000</td>\n",
       "      <td>...</td>\n",
       "      <td>7.000000</td>\n",
       "      <td>6.000000</td>\n",
       "      <td>9.000000</td>\n",
       "      <td>5.000000</td>\n",
       "      <td>3.000000</td>\n",
       "      <td>3.000000</td>\n",
       "      <td>5.000000</td>\n",
       "      <td>3.000000</td>\n",
       "      <td>2.000000</td>\n",
       "      <td>16.0</td>\n",
       "    </tr>\n",
       "  </tbody>\n",
       "</table>\n",
       "<p>8 rows × 88 columns</p>\n",
       "</div>"
      ],
      "text/plain": [
       "            ct_score        t_score      ct_health       t_health  \\\n",
       "count  122410.000000  122410.000000  122410.000000  122410.000000   \n",
       "mean        6.647178       6.715244     412.106568     402.713684   \n",
       "std         4.620366       4.650145     132.293290     139.918173   \n",
       "min         0.000000       0.000000       0.000000       0.000000   \n",
       "25%         3.000000       3.000000     350.000000     322.000000   \n",
       "50%         6.000000       6.000000     500.000000     500.000000   \n",
       "75%        10.000000      10.000000     500.000000     500.000000   \n",
       "max        16.000000      16.000000     500.000000     500.000000   \n",
       "\n",
       "            ct_armor        t_armor       ct_money        t_money  \\\n",
       "count  122410.000000  122410.000000  122410.000000  122410.000000   \n",
       "mean      314.142121     298.444670    9789.023773   11241.036680   \n",
       "std       171.029736     174.576545   11215.042286   12162.806759   \n",
       "min         0.000000       0.000000       0.000000       0.000000   \n",
       "25%       194.000000     174.000000    1300.000000    1550.000000   \n",
       "50%       377.000000     334.000000    5500.000000    7150.000000   \n",
       "75%       486.000000     468.000000   14600.000000   18000.000000   \n",
       "max       500.000000     500.000000   80000.000000   80000.000000   \n",
       "\n",
       "          ct_helmets      t_helmets  ...  t_grenade_flashbang  \\\n",
       "count  122410.000000  122410.000000  ...        122410.000000   \n",
       "mean        2.053901       2.773638  ...             1.858100   \n",
       "std         1.841470       2.010915  ...             1.794473   \n",
       "min         0.000000       0.000000  ...             0.000000   \n",
       "25%         0.000000       0.000000  ...             0.000000   \n",
       "50%         2.000000       3.000000  ...             1.000000   \n",
       "75%         4.000000       5.000000  ...             3.000000   \n",
       "max         5.000000       5.000000  ...             7.000000   \n",
       "\n",
       "       ct_grenade_smokegrenade  t_grenade_smokegrenade  \\\n",
       "count            122410.000000           122410.000000   \n",
       "mean                  1.540814                1.627146   \n",
       "std                   1.737804                1.829147   \n",
       "min                   0.000000                0.000000   \n",
       "25%                   0.000000                0.000000   \n",
       "50%                   1.000000                1.000000   \n",
       "75%                   3.000000                3.000000   \n",
       "max                   6.000000                9.000000   \n",
       "\n",
       "       ct_grenade_incendiarygrenade  t_grenade_incendiarygrenade  \\\n",
       "count                 122410.000000                122410.000000   \n",
       "mean                       1.001969                     0.019819   \n",
       "std                        1.458084                     0.143933   \n",
       "min                        0.000000                     0.000000   \n",
       "25%                        0.000000                     0.000000   \n",
       "50%                        0.000000                     0.000000   \n",
       "75%                        2.000000                     0.000000   \n",
       "max                        5.000000                     3.000000   \n",
       "\n",
       "       ct_grenade_molotovgrenade  t_grenade_molotovgrenade  \\\n",
       "count              122410.000000             122410.000000   \n",
       "mean                    0.048011                  1.352095   \n",
       "std                     0.227669                  1.663246   \n",
       "min                     0.000000                  0.000000   \n",
       "25%                     0.000000                  0.000000   \n",
       "50%                     0.000000                  1.000000   \n",
       "75%                     0.000000                  2.000000   \n",
       "max                     3.000000                  5.000000   \n",
       "\n",
       "       ct_grenade_decoygrenade  t_grenade_decoygrenade     Fee  \n",
       "count            122410.000000           122410.000000  1941.0  \n",
       "mean                  0.027694                0.025750    16.0  \n",
       "std                   0.169531                0.164162     0.0  \n",
       "min                   0.000000                0.000000    16.0  \n",
       "25%                   0.000000                0.000000    16.0  \n",
       "50%                   0.000000                0.000000    16.0  \n",
       "75%                   0.000000                0.000000    16.0  \n",
       "max                   3.000000                2.000000    16.0  \n",
       "\n",
       "[8 rows x 88 columns]"
      ]
     },
     "execution_count": 39,
     "metadata": {},
     "output_type": "execute_result"
    }
   ],
   "source": [
    "data.describe()"
   ]
  },
  {
   "attachments": {},
   "cell_type": "markdown",
   "metadata": {},
   "source": [
    "Comments from the exploration:\n",
    "- It's not normal to have scores upper than 16 in any team\n",
    "- Health can't be upper than 500\n",
    "- In some rounds there are 6 players (that explains a registry of 600 in health)\n",
    "- Players can buy as many guns as their available money allows it, so in guns and grenades it's normal to see more than 5 guns\n",
    "- Guns and grenades variables have normal values"
   ]
  },
  {
   "cell_type": "code",
   "execution_count": 33,
   "metadata": {},
   "outputs": [
    {
     "data": {
      "text/plain": [
       "0.0     12161\n",
       "3.0      9106\n",
       "5.0      8682\n",
       "4.0      8638\n",
       "1.0      8581\n",
       "6.0      8479\n",
       "7.0      8008\n",
       "8.0      7576\n",
       "2.0      7268\n",
       "9.0      7255\n",
       "10.0     6408\n",
       "11.0     6370\n",
       "12.0     6090\n",
       "13.0     5362\n",
       "14.0     5113\n",
       "15.0     4743\n",
       "16.0     2570\n",
       "Name: t_score, dtype: int64"
      ]
     },
     "execution_count": 33,
     "metadata": {},
     "output_type": "execute_result"
    }
   ],
   "source": [
    "unique(\"ct_score\")\n",
    "unique(\"t_score\")"
   ]
  },
  {
   "attachments": {},
   "cell_type": "markdown",
   "metadata": {},
   "source": [
    "In both scores the % of values upper than 16 is less than 5%, so I´ll impute 16 in the numbers upper that 16"
   ]
  },
  {
   "cell_type": "code",
   "execution_count": 37,
   "metadata": {},
   "outputs": [],
   "source": [
    "# Chainging the values\n",
    "data['ct_score'] = np.where(data['ct_score'] > 16, 16, data['ct_score'])\n",
    "data['t_score'] = np.where(data['t_score'] > 16, 16, data['t_score'])\n",
    "data['t_health'] = np.where(data['t_health'] > 500, 500, data['t_health'])\n",
    "data['t_players_alive'] = np.where(data['t_players_alive'] > 500, 500, data['t_players_alive'])"
   ]
  },
  {
   "cell_type": "code",
   "execution_count": 21,
   "metadata": {},
   "outputs": [
    {
     "data": {
      "text/plain": [
       "5.0    80901\n",
       "4.0    15958\n",
       "3.0    10915\n",
       "2.0     7667\n",
       "1.0     5802\n",
       "0.0     1166\n",
       "6.0        1\n",
       "Name: t_players_alive, dtype: int64"
      ]
     },
     "execution_count": 21,
     "metadata": {},
     "output_type": "execute_result"
    }
   ],
   "source": [
    "unique(\"t_health\")\n",
    "unique(\"t_players_alive\")"
   ]
  },
  {
   "attachments": {},
   "cell_type": "markdown",
   "metadata": {},
   "source": [
    "There's only 1 observation of 6 alive players. That explains why there is 600 health points once. I'll impute the 600 in 500 and the 6 players number into 5"
   ]
  },
  {
   "attachments": {},
   "cell_type": "markdown",
   "metadata": {},
   "source": [
    "I will plot score, health, armor and money, that are the only numeric variables that don't are influenced directly by the players"
   ]
  },
  {
   "cell_type": "code",
   "execution_count": 22,
   "metadata": {},
   "outputs": [
    {
     "data": {
      "image/png": "[encoded data removed]",
      "text/plain": [
       "<Figure size 600x600 with 2 Axes>"
      ]
     },
     "metadata": {},
     "output_type": "display_data"
    }
   ],
   "source": [
    "# Plotting the scores of both teams\n",
    "plt.rcParams[\"figure.figsize\"] = [7.50, 3.50]\n",
    "plt.rcParams[\"figure.autolayout\"] = True\n",
    "\n",
    "fig, axes = plt.subplots(1, 2)\n",
    "\n",
    "data[\"ct_score\"].hist(figsize=(6,6), ax=axes[0])\n",
    "data[\"t_score\"].hist(figsize=(6,6), ax=axes[1])\n",
    "\n",
    "plt.show()"
   ]
  },
  {
   "cell_type": "code",
   "execution_count": 23,
   "metadata": {},
   "outputs": [
    {
     "data": {
      "image/png": "[encoded data removed]",
      "text/plain": [
       "<Figure size 600x600 with 2 Axes>"
      ]
     },
     "metadata": {},
     "output_type": "display_data"
    }
   ],
   "source": [
    "# Plotting the health of both teams\n",
    "plt.rcParams[\"figure.figsize\"] = [7.50, 3.50]\n",
    "plt.rcParams[\"figure.autolayout\"] = True\n",
    "\n",
    "fig, axes = plt.subplots(1, 2)\n",
    "\n",
    "data[\"ct_health\"].hist(figsize=(6,6), ax=axes[0])\n",
    "data[\"t_health\"].hist(figsize=(6,6), ax=axes[1])\n",
    "\n",
    "plt.show()"
   ]
  },
  {
   "cell_type": "code",
   "execution_count": 24,
   "metadata": {},
   "outputs": [
    {
     "data": {
      "image/png": "[encoded data removed]",
      "text/plain": [
       "<Figure size 600x600 with 2 Axes>"
      ]
     },
     "metadata": {},
     "output_type": "display_data"
    }
   ],
   "source": [
    "# Plotting the armor of both teams\n",
    "plt.rcParams[\"figure.figsize\"] = [7.50, 3.50]\n",
    "plt.rcParams[\"figure.autolayout\"] = True\n",
    "\n",
    "fig, axes = plt.subplots(1, 2)\n",
    "\n",
    "data[\"ct_armor\"].hist(figsize=(6,6), ax=axes[0])\n",
    "data[\"t_armor\"].hist(figsize=(6,6), ax=axes[1])\n",
    "\n",
    "plt.show()"
   ]
  },
  {
   "cell_type": "code",
   "execution_count": 25,
   "metadata": {},
   "outputs": [
    {
     "data": {
      "image/png": "[encoded data removed]",
      "text/plain": [
       "<Figure size 600x600 with 2 Axes>"
      ]
     },
     "metadata": {},
     "output_type": "display_data"
    }
   ],
   "source": [
    "# Plotting the money of both teams\n",
    "plt.rcParams[\"figure.figsize\"] = [7.50, 3.50]\n",
    "plt.rcParams[\"figure.autolayout\"] = True\n",
    "\n",
    "fig, axes = plt.subplots(1, 2)\n",
    "\n",
    "data[\"ct_money\"].hist(figsize=(6,6), ax=axes[0])\n",
    "data[\"t_money\"].hist(figsize=(6,6), ax=axes[1])\n",
    "\n",
    "plt.show()"
   ]
  },
  {
   "attachments": {},
   "cell_type": "markdown",
   "metadata": {},
   "source": [
    "All this four variables have almost the same distribution between teams, there is no need to normalice data, at this point"
   ]
  },
  {
   "cell_type": "code",
   "execution_count": 26,
   "metadata": {},
   "outputs": [
    {
     "name": "stdout",
     "output_type": "stream",
     "text": [
      "time_left                       object\n",
      "ct_score                       float64\n",
      "t_score                        float64\n",
      "map                             object\n",
      "bomb_planted                      bool\n",
      "                                ...   \n",
      "t_grenade_incendiarygrenade    float64\n",
      "ct_grenade_molotovgrenade      float64\n",
      "t_grenade_molotovgrenade       float64\n",
      "ct_grenade_decoygrenade        float64\n",
      "t_grenade_decoygrenade         float64\n",
      "Length: 90, dtype: object\n"
     ]
    }
   ],
   "source": [
    "print(data.dtypes)"
   ]
  },
  {
   "attachments": {},
   "cell_type": "markdown",
   "metadata": {},
   "source": [
    "After reviewing the data, there was no need to create a pipeline for numeric values because numeric data comes standarized and without NAs"
   ]
  },
  {
   "attachments": {},
   "cell_type": "markdown",
   "metadata": {},
   "source": [
    "## Pipelines to clean the data"
   ]
  },
  {
   "attachments": {},
   "cell_type": "markdown",
   "metadata": {},
   "source": [
    "### Categoric Pipeline"
   ]
  },
  {
   "cell_type": "code",
   "execution_count": 19,
   "metadata": {},
   "outputs": [],
   "source": [
    "categoric_pipeline = Pipeline([\n",
    "                        ('Imputador', SimpleImputer(strategy=\"most_frequent\")),\n",
    "                        ('ohe', OneHotEncoder())\n",
    "                        ])"
   ]
  },
  {
   "attachments": {},
   "cell_type": "markdown",
   "metadata": {},
   "source": [
    "Testing the pipeline. Categoricas contains the raw columns, categorical contains the processed data"
   ]
  },
  {
   "cell_type": "code",
   "execution_count": 20,
   "metadata": {},
   "outputs": [
    {
     "data": {
      "text/plain": [
       "array([0., 0., 0., 1., 0., 0., 0., 1., 0., 0., 0., 0., 0., 0., 0., 0., 0.,\n",
       "       0., 0., 0., 0., 0., 0., 0., 0., 1., 0., 0., 1., 0., 1., 0., 1., 0.])"
      ]
     },
     "execution_count": 20,
     "metadata": {},
     "output_type": "execute_result"
    }
   ],
   "source": [
    "categoricas = data[[\"acqCountry\", \"merchantCountryCode\", \"merchantCategoryCode\", \"transactionType\", \"cardPresent\", \"expirationDateKeyInMatch\"]]\n",
    "categorical = categoric_pipeline.fit_transform(categoricas.values)\n",
    "categorical.toarray()[0,:]"
   ]
  },
  {
   "attachments": {},
   "cell_type": "markdown",
   "metadata": {},
   "source": [
    "### Full pipeline"
   ]
  },
  {
   "attachments": {},
   "cell_type": "markdown",
   "metadata": {},
   "source": [
    "- Date columns are string but I can't send them in the categorical pipeline because isn't useful to me\n",
    "- I need to pick specific string columns in order to clean correctly the data"
   ]
  },
  {
   "cell_type": "code",
   "execution_count": 21,
   "metadata": {},
   "outputs": [],
   "source": [
    "numerical_attributes = data.select_dtypes(include='number').columns \n",
    "categorical_attributes = data.select_dtypes(exclude='number').columns \n",
    "\n",
    "full_cleaning_pipeline = ColumnTransformer([\n",
    "        (\"numerics\", numeric_pipeline, numerical_attributes),\n",
    "        (\"categorics\", categoric_pipeline, categorical_attributes)\n",
    "    ])"
   ]
  },
  {
   "cell_type": "code",
   "execution_count": 22,
   "metadata": {},
   "outputs": [
    {
     "name": "stdout",
     "output_type": "stream",
     "text": [
      "(385316, 45)\n",
      "(165136, 45)\n"
     ]
    }
   ],
   "source": [
    "full_cleaning_pipeline.fit(data)\n",
    "ready_Xtrain = full_cleaning_pipeline.transform(X_train)\n",
    "ready_Xtest = full_cleaning_pipeline.transform(X_test)\n",
    "\n",
    "print(ready_Xtrain.shape)\n",
    "print(ready_Xtest.shape)"
   ]
  },
  {
   "attachments": {},
   "cell_type": "markdown",
   "metadata": {},
   "source": [
    "## Model"
   ]
  },
  {
   "cell_type": "code",
   "execution_count": 23,
   "metadata": {},
   "outputs": [
    {
     "name": "stdout",
     "output_type": "stream",
     "text": [
      "DecisionTreeClassifier:\n",
      "\n",
      "F1: 0.9701786161095085\n",
      "Precision Score: 0.9716639214206332\n",
      "Recall Score: 0.9687166941187869\n"
     ]
    }
   ],
   "source": [
    "predictor_pipeline = Pipeline([\n",
    "        (\"data_preparation\", full_cleaning_pipeline),\n",
    "        (\"DTC\", DecisionTreeClassifier(random_state=10000))\n",
    "    ])\n",
    "\n",
    "predictor_pipeline.fit(X_train, y_train)\n",
    "predicted_vals = predictor_pipeline.predict(X_test)\n",
    "\n",
    "print('DecisionTreeClassifier:\\n')\n",
    "print('F1: {0}'.format(f1_score(y_test,predicted_vals,average='weighted')))\n",
    "print('Precision Score: {0}'.format(precision_score(y_test,predicted_vals,average='weighted')))\n",
    "print('Recall Score: {0}'.format(recall_score(y_test,predicted_vals, average='weighted')))\n",
    "cm = confusion_matrix(y_test,predicted_vals)"
   ]
  },
  {
   "cell_type": "code",
   "execution_count": 24,
   "metadata": {},
   "outputs": [
    {
     "data": {
      "text/plain": [
       "<AxesSubplot: >"
      ]
     },
     "execution_count": 24,
     "metadata": {},
     "output_type": "execute_result"
    },
    {
     "data": {
      "image/png": "[encoded data removed]",
      "text/plain": [
       "<Figure size 1000x700 with 2 Axes>"
      ]
     },
     "metadata": {},
     "output_type": "display_data"
    }
   ],
   "source": [
    "plt.figure(figsize = (10,7))\n",
    "sns.heatmap(cm, annot=True, cmap='Blues', fmt='g')"
   ]
  },
  {
   "attachments": {},
   "cell_type": "markdown",
   "metadata": {},
   "source": [
    "## Saving model pipeline\n",
    "- Using datat (Test dataset) to predict the isFraud variable\n",
    "- Because I uploaded the answers to Kaggle, I need to merge the ID's of the transactions and the transactions result"
   ]
  },
  {
   "cell_type": "code",
   "execution_count": 25,
   "metadata": {},
   "outputs": [],
   "source": [
    "DT_model = predictor_pipeline\n",
    "joblib.dump(DT_model, \"FraudModel.pkl\")\n",
    "FraudModel = joblib.load(\"FraudModel.pkl\")\n",
    "isFraud = FraudModel.predict(datat)\n",
    "solutions = pd.concat([id, pd.DataFrame(isFraud)], axis=1)\n",
    "solutions.to_csv('solutions.csv')"
   ]
  }
 ],
 "metadata": {
  "kernelspec": {
   "display_name": "Python 3",
   "language": "python",
   "name": "python3"
  },
  "language_info": {
   "codemirror_mode": {
    "name": "ipython",
    "version": 3
   },
   "file_extension": ".py",
   "mimetype": "text/x-python",
   "name": "python",
   "nbconvert_exporter": "python",
   "pygments_lexer": "ipython3",
   "version": "3.9.13"
  },
  "orig_nbformat": 4
 },
 "nbformat": 4,
 "nbformat_minor": 2
}
