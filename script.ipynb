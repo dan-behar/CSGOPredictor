{
 "cells": [
  {
   "attachments": {},
   "cell_type": "markdown",
   "metadata": {},
   "source": [
    "## *Game Winner* - Machine Learning Models Final Project\n",
    "## <font size=5 color='gray'>Daniel Behar</font>"
   ]
  },
  {
   "attachments": {},
   "cell_type": "markdown",
   "metadata": {},
   "source": [
    "*Context of the game:* CS:GO is a tactical classic shooter game. There are plenty of game modes, but for this model I picked only Competitive Mode data. In this mode, there's two teams (CT and Terrorist) with 5 players each team. They play for a best of 30 rounds (16 rounds winner wins the game) and each round is limited to 1 minute and 55 seconds. At the start, one team plays as CT and the other as Terrorist. After 15 rounds played, the teams swap side. This dataset holds only 8 different maps from the game. You win a round as Terrorist by either planting the bomb and making sure it explodes, or by eliminating the other team. You win a round as CT by either eliminating the other team, or by disarming the bomb after it was planted."
   ]
  },
  {
   "attachments": {},
   "cell_type": "markdown",
   "metadata": {},
   "source": [
    "The goal of the project is to select and create the best prediction algorithm to predict which of the two teams of the game will win the round, depending on previous results and their decisions preparing for the round. This is the last project of Machine Learning Models course.\n",
    "#### Structure of the notebook:\n",
    "* `Libraries`: Includes a briefly description of where they were used in the process and some functions I wrote\n",
    "* `Data`: Includes the data export, separation in train-test and exploration\n",
    "* `Cleaning and Full Pipelines`: Building the two pipelines that I used\n",
    "* `Models`: Building the pipeline where I'm placing my model after trying a bunch of them"
   ]
  },
  {
   "attachments": {},
   "cell_type": "markdown",
   "metadata": {},
   "source": [
    "## Importing Libraries"
   ]
  },
  {
   "cell_type": "code",
   "execution_count": 1,
   "metadata": {},
   "outputs": [],
   "source": [
    "#General use libraries\n",
    "import pandas as pd\n",
    "import matplotlib.pyplot as plt \n",
    "import seaborn as sns\n",
    "import numpy as np\n",
    "\n",
    "#To split into train and test\n",
    "from sklearn.model_selection import train_test_split\n",
    "\n",
    "#Normality Test\n",
    "from scipy.stats import shapiro\n",
    "\n",
    "#Categoric Pipeline\n",
    "from sklearn.pipeline import Pipeline\n",
    "from sklearn.preprocessing import OneHotEncoder\n",
    "from sklearn.impute import SimpleImputer\n",
    "\n",
    "#Full Pipeline\n",
    "from sklearn.compose import ColumnTransformer\n",
    "\n",
    "#Grid Search\n",
    "from sklearn.model_selection import RandomizedSearchCV\n",
    "\n",
    "#Final model and models tested\n",
    "from sklearn.metrics import confusion_matrix, f1_score, precision_score, recall_score\n",
    "from sklearn.ensemble import RandomForestClassifier, AdaBoostClassifier\n",
    "from sklearn.tree import DecisionTreeClassifier\n",
    "from sklearn.multiclass import OneVsOneClassifier\n",
    "from sklearn.linear_model import SGDClassifier\n",
    "from xgboost import XGBClassifier\n",
    "\n",
    "#Checking for strange values (my func)\n",
    "def unique(column):\n",
    "    \"\"\" Unique. Receives a column name and\n",
    "        returns all the unique values in it\n",
    "        \n",
    "    Args:\n",
    "        column (str): The name of the column to analyse\n",
    "\n",
    "    Returns:\n",
    "        the counts of the unique values\n",
    "    \"\"\"\n",
    "    return data[column].value_counts()\n",
    "\n",
    "#Normalicer function\n",
    "def normalizer(column):\n",
    "    \"\"\" Normalizer. Receives a column name and\n",
    "        normalize the data in it\n",
    "        \n",
    "    Args:\n",
    "        column (str): The name of the column to analyse\n",
    "\n",
    "    Returns:\n",
    "        True, indicating that the data was normalized\n",
    "        and stored in the dataset\n",
    "    \"\"\"\n",
    "    df_max_scaled = data.copy()\n",
    "    data[column] = df_max_scaled[column] /df_max_scaled[column].abs().max()\n",
    "    \n",
    "    return True\n",
    "\n",
    "%matplotlib inline"
   ]
  },
  {
   "attachments": {},
   "cell_type": "markdown",
   "metadata": {},
   "source": [
    "## Data\n",
    "* Getting the data\n",
    "* Extracting round_winner from the set\n",
    "* Exploring the data to understand its behaviour and how clean it comes\n",
    "* Creating train and test sets from the dataset"
   ]
  },
  {
   "cell_type": "code",
   "execution_count": 2,
   "metadata": {},
   "outputs": [],
   "source": [
    "#Data will be the data that I'll use to create and train the model, datat is the data for which I want to predict the isFraud variable\n",
    "data = pd.read_csv(\"csgo.csv\")"
   ]
  },
  {
   "cell_type": "code",
   "execution_count": 3,
   "metadata": {},
   "outputs": [
    {
     "data": {
      "text/html": [
       "<div>\n",
       "<style scoped>\n",
       "    .dataframe tbody tr th:only-of-type {\n",
       "        vertical-align: middle;\n",
       "    }\n",
       "\n",
       "    .dataframe tbody tr th {\n",
       "        vertical-align: top;\n",
       "    }\n",
       "\n",
       "    .dataframe thead th {\n",
       "        text-align: right;\n",
       "    }\n",
       "</style>\n",
       "<table border=\"1\" class=\"dataframe\">\n",
       "  <thead>\n",
       "    <tr style=\"text-align: right;\">\n",
       "      <th></th>\n",
       "      <th>time_left</th>\n",
       "      <th>ct_score</th>\n",
       "      <th>t_score</th>\n",
       "      <th>map</th>\n",
       "      <th>bomb_planted</th>\n",
       "      <th>ct_health</th>\n",
       "      <th>t_health</th>\n",
       "      <th>ct_armor</th>\n",
       "      <th>t_armor</th>\n",
       "      <th>ct_money</th>\n",
       "      <th>...</th>\n",
       "      <th>t_grenade_flashbang</th>\n",
       "      <th>ct_grenade_smokegrenade</th>\n",
       "      <th>t_grenade_smokegrenade</th>\n",
       "      <th>ct_grenade_incendiarygrenade</th>\n",
       "      <th>t_grenade_incendiarygrenade</th>\n",
       "      <th>ct_grenade_molotovgrenade</th>\n",
       "      <th>t_grenade_molotovgrenade</th>\n",
       "      <th>ct_grenade_decoygrenade</th>\n",
       "      <th>t_grenade_decoygrenade</th>\n",
       "      <th>round_winner</th>\n",
       "    </tr>\n",
       "  </thead>\n",
       "  <tbody>\n",
       "    <tr>\n",
       "      <th>0</th>\n",
       "      <td>175.0</td>\n",
       "      <td>0.0</td>\n",
       "      <td>0.0</td>\n",
       "      <td>de_dust2</td>\n",
       "      <td>False</td>\n",
       "      <td>500.0</td>\n",
       "      <td>500.0</td>\n",
       "      <td>0.0</td>\n",
       "      <td>0.0</td>\n",
       "      <td>4000.0</td>\n",
       "      <td>...</td>\n",
       "      <td>0.0</td>\n",
       "      <td>0.0</td>\n",
       "      <td>0.0</td>\n",
       "      <td>0.0</td>\n",
       "      <td>0.0</td>\n",
       "      <td>0.0</td>\n",
       "      <td>0.0</td>\n",
       "      <td>0.0</td>\n",
       "      <td>0.0</td>\n",
       "      <td>CT</td>\n",
       "    </tr>\n",
       "    <tr>\n",
       "      <th>1</th>\n",
       "      <td>.156.03</td>\n",
       "      <td>0.0</td>\n",
       "      <td>0.0</td>\n",
       "      <td>de_dust2</td>\n",
       "      <td>False</td>\n",
       "      <td>500.0</td>\n",
       "      <td>500.0</td>\n",
       "      <td>400.0</td>\n",
       "      <td>300.0</td>\n",
       "      <td>600.0</td>\n",
       "      <td>...</td>\n",
       "      <td>0.0</td>\n",
       "      <td>0.0</td>\n",
       "      <td>2.0</td>\n",
       "      <td>0.0</td>\n",
       "      <td>0.0</td>\n",
       "      <td>0.0</td>\n",
       "      <td>0.0</td>\n",
       "      <td>0.0</td>\n",
       "      <td>0.0</td>\n",
       "      <td>CT</td>\n",
       "    </tr>\n",
       "    <tr>\n",
       "      <th>2</th>\n",
       "      <td>.96.03</td>\n",
       "      <td>0.0</td>\n",
       "      <td>0.0</td>\n",
       "      <td>de_dust2</td>\n",
       "      <td>False</td>\n",
       "      <td>391.0</td>\n",
       "      <td>400.0</td>\n",
       "      <td>294.0</td>\n",
       "      <td>200.0</td>\n",
       "      <td>750.0</td>\n",
       "      <td>...</td>\n",
       "      <td>0.0</td>\n",
       "      <td>0.0</td>\n",
       "      <td>2.0</td>\n",
       "      <td>0.0</td>\n",
       "      <td>0.0</td>\n",
       "      <td>0.0</td>\n",
       "      <td>0.0</td>\n",
       "      <td>0.0</td>\n",
       "      <td>0.0</td>\n",
       "      <td>CT</td>\n",
       "    </tr>\n",
       "    <tr>\n",
       "      <th>3</th>\n",
       "      <td>.76.03</td>\n",
       "      <td>0.0</td>\n",
       "      <td>0.0</td>\n",
       "      <td>de_dust2</td>\n",
       "      <td>False</td>\n",
       "      <td>391.0</td>\n",
       "      <td>400.0</td>\n",
       "      <td>294.0</td>\n",
       "      <td>200.0</td>\n",
       "      <td>750.0</td>\n",
       "      <td>...</td>\n",
       "      <td>0.0</td>\n",
       "      <td>0.0</td>\n",
       "      <td>0.0</td>\n",
       "      <td>0.0</td>\n",
       "      <td>0.0</td>\n",
       "      <td>0.0</td>\n",
       "      <td>0.0</td>\n",
       "      <td>0.0</td>\n",
       "      <td>0.0</td>\n",
       "      <td>CT</td>\n",
       "    </tr>\n",
       "    <tr>\n",
       "      <th>4</th>\n",
       "      <td>.174.97</td>\n",
       "      <td>1.0</td>\n",
       "      <td>0.0</td>\n",
       "      <td>de_dust2</td>\n",
       "      <td>False</td>\n",
       "      <td>500.0</td>\n",
       "      <td>500.0</td>\n",
       "      <td>192.0</td>\n",
       "      <td>0.0</td>\n",
       "      <td>18350.0</td>\n",
       "      <td>...</td>\n",
       "      <td>0.0</td>\n",
       "      <td>0.0</td>\n",
       "      <td>0.0</td>\n",
       "      <td>0.0</td>\n",
       "      <td>0.0</td>\n",
       "      <td>0.0</td>\n",
       "      <td>0.0</td>\n",
       "      <td>0.0</td>\n",
       "      <td>0.0</td>\n",
       "      <td>CT</td>\n",
       "    </tr>\n",
       "  </tbody>\n",
       "</table>\n",
       "<p>5 rows × 97 columns</p>\n",
       "</div>"
      ],
      "text/plain": [
       "  time_left  ct_score  t_score       map  bomb_planted  ct_health  t_health  \\\n",
       "0     175.0       0.0      0.0  de_dust2         False      500.0     500.0   \n",
       "1   .156.03       0.0      0.0  de_dust2         False      500.0     500.0   \n",
       "2    .96.03       0.0      0.0  de_dust2         False      391.0     400.0   \n",
       "3    .76.03       0.0      0.0  de_dust2         False      391.0     400.0   \n",
       "4   .174.97       1.0      0.0  de_dust2         False      500.0     500.0   \n",
       "\n",
       "   ct_armor  t_armor  ct_money  ...  t_grenade_flashbang  \\\n",
       "0       0.0      0.0    4000.0  ...                  0.0   \n",
       "1     400.0    300.0     600.0  ...                  0.0   \n",
       "2     294.0    200.0     750.0  ...                  0.0   \n",
       "3     294.0    200.0     750.0  ...                  0.0   \n",
       "4     192.0      0.0   18350.0  ...                  0.0   \n",
       "\n",
       "   ct_grenade_smokegrenade  t_grenade_smokegrenade  \\\n",
       "0                      0.0                     0.0   \n",
       "1                      0.0                     2.0   \n",
       "2                      0.0                     2.0   \n",
       "3                      0.0                     0.0   \n",
       "4                      0.0                     0.0   \n",
       "\n",
       "   ct_grenade_incendiarygrenade  t_grenade_incendiarygrenade  \\\n",
       "0                           0.0                          0.0   \n",
       "1                           0.0                          0.0   \n",
       "2                           0.0                          0.0   \n",
       "3                           0.0                          0.0   \n",
       "4                           0.0                          0.0   \n",
       "\n",
       "   ct_grenade_molotovgrenade  t_grenade_molotovgrenade  \\\n",
       "0                        0.0                       0.0   \n",
       "1                        0.0                       0.0   \n",
       "2                        0.0                       0.0   \n",
       "3                        0.0                       0.0   \n",
       "4                        0.0                       0.0   \n",
       "\n",
       "   ct_grenade_decoygrenade  t_grenade_decoygrenade  round_winner  \n",
       "0                      0.0                     0.0            CT  \n",
       "1                      0.0                     0.0            CT  \n",
       "2                      0.0                     0.0            CT  \n",
       "3                      0.0                     0.0            CT  \n",
       "4                      0.0                     0.0            CT  \n",
       "\n",
       "[5 rows x 97 columns]"
      ]
     },
     "execution_count": 3,
     "metadata": {},
     "output_type": "execute_result"
    }
   ],
   "source": [
    "data.head(5)"
   ]
  },
  {
   "attachments": {},
   "cell_type": "markdown",
   "metadata": {},
   "source": [
    "Distribution of T and CT in the data (distribution of winners)"
   ]
  },
  {
   "cell_type": "code",
   "execution_count": 4,
   "metadata": {},
   "outputs": [
    {
     "data": {
      "text/plain": [
       "T     62406\n",
       "CT    60004\n",
       "Name: round_winner, dtype: int64"
      ]
     },
     "execution_count": 4,
     "metadata": {},
     "output_type": "execute_result"
    }
   ],
   "source": [
    "#The predicted value is balanced\n",
    "unique(\"round_winner\")"
   ]
  },
  {
   "cell_type": "code",
   "execution_count": 5,
   "metadata": {},
   "outputs": [
    {
     "name": "stdout",
     "output_type": "stream",
     "text": [
      "(122410, 95)\n",
      "(122410,)\n"
     ]
    }
   ],
   "source": [
    "#Extracting the predicted value and removing it from the dataset\n",
    "y = data.loc[:,\"round_winner\"]\n",
    "data.drop([\"round_winner\", \"time_left\"],axis=1,inplace=True)\n",
    "print(data.shape)\n",
    "print(y.shape)"
   ]
  },
  {
   "attachments": {},
   "cell_type": "markdown",
   "metadata": {},
   "source": [
    "Comments:\n",
    "- There are some guns in the game that were not used, so the model can't know their influence in a match. For that reason I deleted all columns with a grand total of 0\n",
    "- time_left didn't helped in any model, so I removed it"
   ]
  },
  {
   "cell_type": "code",
   "execution_count": 6,
   "metadata": {},
   "outputs": [
    {
     "name": "stdout",
     "output_type": "stream",
     "text": [
      "(122410, 89)\n"
     ]
    }
   ],
   "source": [
    "#Removing the columns that doesn't have any registry\n",
    "\n",
    "column_sums = data.sum()\n",
    "columns_to_drop = column_sums.loc[column_sums == 0].index\n",
    "\n",
    "#Drop the selected columns from the DataFrame\n",
    "data = data.drop(columns=columns_to_drop)\n",
    "print(data.shape)"
   ]
  },
  {
   "attachments": {},
   "cell_type": "markdown",
   "metadata": {},
   "source": [
    "### Exploring data\n",
    "* Search for NA values and not normal observations\n",
    "* Searching for relevant information about the data"
   ]
  },
  {
   "cell_type": "code",
   "execution_count": 7,
   "metadata": {},
   "outputs": [
    {
     "data": {
      "text/plain": [
       "array(['CT', 'T'], dtype=object)"
      ]
     },
     "execution_count": 7,
     "metadata": {},
     "output_type": "execute_result"
    }
   ],
   "source": [
    "#Unique values in the y variable\n",
    "np.unique(y)"
   ]
  },
  {
   "cell_type": "code",
   "execution_count": 8,
   "metadata": {},
   "outputs": [
    {
     "data": {
      "text/html": [
       "<div>\n",
       "<style scoped>\n",
       "    .dataframe tbody tr th:only-of-type {\n",
       "        vertical-align: middle;\n",
       "    }\n",
       "\n",
       "    .dataframe tbody tr th {\n",
       "        vertical-align: top;\n",
       "    }\n",
       "\n",
       "    .dataframe thead th {\n",
       "        text-align: right;\n",
       "    }\n",
       "</style>\n",
       "<table border=\"1\" class=\"dataframe\">\n",
       "  <thead>\n",
       "    <tr style=\"text-align: right;\">\n",
       "      <th></th>\n",
       "      <th>index</th>\n",
       "      <th>%NAs</th>\n",
       "    </tr>\n",
       "  </thead>\n",
       "  <tbody>\n",
       "    <tr>\n",
       "      <th>0</th>\n",
       "      <td>ct_score</td>\n",
       "      <td>0.0</td>\n",
       "    </tr>\n",
       "    <tr>\n",
       "      <th>1</th>\n",
       "      <td>t_score</td>\n",
       "      <td>0.0</td>\n",
       "    </tr>\n",
       "    <tr>\n",
       "      <th>2</th>\n",
       "      <td>map</td>\n",
       "      <td>0.0</td>\n",
       "    </tr>\n",
       "    <tr>\n",
       "      <th>3</th>\n",
       "      <td>bomb_planted</td>\n",
       "      <td>0.0</td>\n",
       "    </tr>\n",
       "    <tr>\n",
       "      <th>4</th>\n",
       "      <td>ct_health</td>\n",
       "      <td>0.0</td>\n",
       "    </tr>\n",
       "    <tr>\n",
       "      <th>...</th>\n",
       "      <td>...</td>\n",
       "      <td>...</td>\n",
       "    </tr>\n",
       "    <tr>\n",
       "      <th>84</th>\n",
       "      <td>t_grenade_incendiarygrenade</td>\n",
       "      <td>0.0</td>\n",
       "    </tr>\n",
       "    <tr>\n",
       "      <th>85</th>\n",
       "      <td>ct_grenade_molotovgrenade</td>\n",
       "      <td>0.0</td>\n",
       "    </tr>\n",
       "    <tr>\n",
       "      <th>86</th>\n",
       "      <td>t_grenade_molotovgrenade</td>\n",
       "      <td>0.0</td>\n",
       "    </tr>\n",
       "    <tr>\n",
       "      <th>87</th>\n",
       "      <td>ct_grenade_decoygrenade</td>\n",
       "      <td>0.0</td>\n",
       "    </tr>\n",
       "    <tr>\n",
       "      <th>88</th>\n",
       "      <td>t_grenade_decoygrenade</td>\n",
       "      <td>0.0</td>\n",
       "    </tr>\n",
       "  </tbody>\n",
       "</table>\n",
       "<p>89 rows × 2 columns</p>\n",
       "</div>"
      ],
      "text/plain": [
       "                          index  %NAs\n",
       "0                      ct_score   0.0\n",
       "1                       t_score   0.0\n",
       "2                           map   0.0\n",
       "3                  bomb_planted   0.0\n",
       "4                     ct_health   0.0\n",
       "..                          ...   ...\n",
       "84  t_grenade_incendiarygrenade   0.0\n",
       "85    ct_grenade_molotovgrenade   0.0\n",
       "86     t_grenade_molotovgrenade   0.0\n",
       "87      ct_grenade_decoygrenade   0.0\n",
       "88       t_grenade_decoygrenade   0.0\n",
       "\n",
       "[89 rows x 2 columns]"
      ]
     },
     "execution_count": 8,
     "metadata": {},
     "output_type": "execute_result"
    }
   ],
   "source": [
    "#% of NAs for each column\n",
    "nas = pd.DataFrame(data.isna().sum()/data.shape[0], columns = ['%NAs']).reset_index()\n",
    "nas"
   ]
  },
  {
   "attachments": {},
   "cell_type": "markdown",
   "metadata": {},
   "source": [
    "Because this data was extracted from servers in the game, there are no NAs. All the NULL values were translated to 0"
   ]
  },
  {
   "cell_type": "code",
   "execution_count": 9,
   "metadata": {},
   "outputs": [
    {
     "data": {
      "text/plain": [
       "de_inferno     23811\n",
       "de_dust2       22144\n",
       "de_nuke        19025\n",
       "de_mirage      18576\n",
       "de_overpass    14081\n",
       "de_train       13491\n",
       "de_vertigo     11137\n",
       "de_cache         145\n",
       "Name: map, dtype: int64"
      ]
     },
     "execution_count": 9,
     "metadata": {},
     "output_type": "execute_result"
    }
   ],
   "source": [
    "unique(\"map\")\n"
   ]
  },
  {
   "attachments": {},
   "cell_type": "markdown",
   "metadata": {},
   "source": [
    "All this maps exist and are very popular in the CSGO community"
   ]
  },
  {
   "attachments": {},
   "cell_type": "markdown",
   "metadata": {},
   "source": [
    "Data behavior"
   ]
  },
  {
   "cell_type": "code",
   "execution_count": 10,
   "metadata": {},
   "outputs": [
    {
     "data": {
      "text/html": [
       "<div>\n",
       "<style scoped>\n",
       "    .dataframe tbody tr th:only-of-type {\n",
       "        vertical-align: middle;\n",
       "    }\n",
       "\n",
       "    .dataframe tbody tr th {\n",
       "        vertical-align: top;\n",
       "    }\n",
       "\n",
       "    .dataframe thead th {\n",
       "        text-align: right;\n",
       "    }\n",
       "</style>\n",
       "<table border=\"1\" class=\"dataframe\">\n",
       "  <thead>\n",
       "    <tr style=\"text-align: right;\">\n",
       "      <th></th>\n",
       "      <th>ct_score</th>\n",
       "      <th>t_score</th>\n",
       "      <th>ct_health</th>\n",
       "      <th>t_health</th>\n",
       "      <th>ct_armor</th>\n",
       "      <th>t_armor</th>\n",
       "      <th>ct_money</th>\n",
       "      <th>t_money</th>\n",
       "      <th>ct_helmets</th>\n",
       "      <th>t_helmets</th>\n",
       "      <th>...</th>\n",
       "      <th>ct_grenade_flashbang</th>\n",
       "      <th>t_grenade_flashbang</th>\n",
       "      <th>ct_grenade_smokegrenade</th>\n",
       "      <th>t_grenade_smokegrenade</th>\n",
       "      <th>ct_grenade_incendiarygrenade</th>\n",
       "      <th>t_grenade_incendiarygrenade</th>\n",
       "      <th>ct_grenade_molotovgrenade</th>\n",
       "      <th>t_grenade_molotovgrenade</th>\n",
       "      <th>ct_grenade_decoygrenade</th>\n",
       "      <th>t_grenade_decoygrenade</th>\n",
       "    </tr>\n",
       "  </thead>\n",
       "  <tbody>\n",
       "    <tr>\n",
       "      <th>count</th>\n",
       "      <td>122410.000000</td>\n",
       "      <td>122410.000000</td>\n",
       "      <td>122410.000000</td>\n",
       "      <td>122410.000000</td>\n",
       "      <td>122410.000000</td>\n",
       "      <td>122410.000000</td>\n",
       "      <td>122410.000000</td>\n",
       "      <td>122410.000000</td>\n",
       "      <td>122410.000000</td>\n",
       "      <td>122410.000000</td>\n",
       "      <td>...</td>\n",
       "      <td>122410.000000</td>\n",
       "      <td>122410.000000</td>\n",
       "      <td>122410.000000</td>\n",
       "      <td>122410.000000</td>\n",
       "      <td>122410.000000</td>\n",
       "      <td>122410.000000</td>\n",
       "      <td>122410.000000</td>\n",
       "      <td>122410.000000</td>\n",
       "      <td>122410.000000</td>\n",
       "      <td>122410.000000</td>\n",
       "    </tr>\n",
       "    <tr>\n",
       "      <th>mean</th>\n",
       "      <td>6.709239</td>\n",
       "      <td>6.780435</td>\n",
       "      <td>412.106568</td>\n",
       "      <td>402.714500</td>\n",
       "      <td>314.142121</td>\n",
       "      <td>298.444670</td>\n",
       "      <td>9789.023773</td>\n",
       "      <td>11241.036680</td>\n",
       "      <td>2.053901</td>\n",
       "      <td>2.773638</td>\n",
       "      <td>...</td>\n",
       "      <td>1.853157</td>\n",
       "      <td>1.858100</td>\n",
       "      <td>1.540814</td>\n",
       "      <td>1.627146</td>\n",
       "      <td>1.001969</td>\n",
       "      <td>0.019819</td>\n",
       "      <td>0.048011</td>\n",
       "      <td>1.352095</td>\n",
       "      <td>0.027694</td>\n",
       "      <td>0.025750</td>\n",
       "    </tr>\n",
       "    <tr>\n",
       "      <th>std</th>\n",
       "      <td>4.790362</td>\n",
       "      <td>4.823543</td>\n",
       "      <td>132.293290</td>\n",
       "      <td>139.919033</td>\n",
       "      <td>171.029736</td>\n",
       "      <td>174.576545</td>\n",
       "      <td>11215.042286</td>\n",
       "      <td>12162.806759</td>\n",
       "      <td>1.841470</td>\n",
       "      <td>2.010915</td>\n",
       "      <td>...</td>\n",
       "      <td>1.772791</td>\n",
       "      <td>1.794473</td>\n",
       "      <td>1.737804</td>\n",
       "      <td>1.829147</td>\n",
       "      <td>1.458084</td>\n",
       "      <td>0.143933</td>\n",
       "      <td>0.227669</td>\n",
       "      <td>1.663246</td>\n",
       "      <td>0.169531</td>\n",
       "      <td>0.164162</td>\n",
       "    </tr>\n",
       "    <tr>\n",
       "      <th>min</th>\n",
       "      <td>0.000000</td>\n",
       "      <td>0.000000</td>\n",
       "      <td>0.000000</td>\n",
       "      <td>0.000000</td>\n",
       "      <td>0.000000</td>\n",
       "      <td>0.000000</td>\n",
       "      <td>0.000000</td>\n",
       "      <td>0.000000</td>\n",
       "      <td>0.000000</td>\n",
       "      <td>0.000000</td>\n",
       "      <td>...</td>\n",
       "      <td>0.000000</td>\n",
       "      <td>0.000000</td>\n",
       "      <td>0.000000</td>\n",
       "      <td>0.000000</td>\n",
       "      <td>0.000000</td>\n",
       "      <td>0.000000</td>\n",
       "      <td>0.000000</td>\n",
       "      <td>0.000000</td>\n",
       "      <td>0.000000</td>\n",
       "      <td>0.000000</td>\n",
       "    </tr>\n",
       "    <tr>\n",
       "      <th>25%</th>\n",
       "      <td>3.000000</td>\n",
       "      <td>3.000000</td>\n",
       "      <td>350.000000</td>\n",
       "      <td>322.000000</td>\n",
       "      <td>194.000000</td>\n",
       "      <td>174.000000</td>\n",
       "      <td>1300.000000</td>\n",
       "      <td>1550.000000</td>\n",
       "      <td>0.000000</td>\n",
       "      <td>0.000000</td>\n",
       "      <td>...</td>\n",
       "      <td>0.000000</td>\n",
       "      <td>0.000000</td>\n",
       "      <td>0.000000</td>\n",
       "      <td>0.000000</td>\n",
       "      <td>0.000000</td>\n",
       "      <td>0.000000</td>\n",
       "      <td>0.000000</td>\n",
       "      <td>0.000000</td>\n",
       "      <td>0.000000</td>\n",
       "      <td>0.000000</td>\n",
       "    </tr>\n",
       "    <tr>\n",
       "      <th>50%</th>\n",
       "      <td>6.000000</td>\n",
       "      <td>6.000000</td>\n",
       "      <td>500.000000</td>\n",
       "      <td>500.000000</td>\n",
       "      <td>377.000000</td>\n",
       "      <td>334.000000</td>\n",
       "      <td>5500.000000</td>\n",
       "      <td>7150.000000</td>\n",
       "      <td>2.000000</td>\n",
       "      <td>3.000000</td>\n",
       "      <td>...</td>\n",
       "      <td>1.000000</td>\n",
       "      <td>1.000000</td>\n",
       "      <td>1.000000</td>\n",
       "      <td>1.000000</td>\n",
       "      <td>0.000000</td>\n",
       "      <td>0.000000</td>\n",
       "      <td>0.000000</td>\n",
       "      <td>1.000000</td>\n",
       "      <td>0.000000</td>\n",
       "      <td>0.000000</td>\n",
       "    </tr>\n",
       "    <tr>\n",
       "      <th>75%</th>\n",
       "      <td>10.000000</td>\n",
       "      <td>10.000000</td>\n",
       "      <td>500.000000</td>\n",
       "      <td>500.000000</td>\n",
       "      <td>486.000000</td>\n",
       "      <td>468.000000</td>\n",
       "      <td>14600.000000</td>\n",
       "      <td>18000.000000</td>\n",
       "      <td>4.000000</td>\n",
       "      <td>5.000000</td>\n",
       "      <td>...</td>\n",
       "      <td>3.000000</td>\n",
       "      <td>3.000000</td>\n",
       "      <td>3.000000</td>\n",
       "      <td>3.000000</td>\n",
       "      <td>2.000000</td>\n",
       "      <td>0.000000</td>\n",
       "      <td>0.000000</td>\n",
       "      <td>2.000000</td>\n",
       "      <td>0.000000</td>\n",
       "      <td>0.000000</td>\n",
       "    </tr>\n",
       "    <tr>\n",
       "      <th>max</th>\n",
       "      <td>32.000000</td>\n",
       "      <td>33.000000</td>\n",
       "      <td>500.000000</td>\n",
       "      <td>600.000000</td>\n",
       "      <td>500.000000</td>\n",
       "      <td>500.000000</td>\n",
       "      <td>80000.000000</td>\n",
       "      <td>80000.000000</td>\n",
       "      <td>5.000000</td>\n",
       "      <td>5.000000</td>\n",
       "      <td>...</td>\n",
       "      <td>7.000000</td>\n",
       "      <td>7.000000</td>\n",
       "      <td>6.000000</td>\n",
       "      <td>9.000000</td>\n",
       "      <td>5.000000</td>\n",
       "      <td>3.000000</td>\n",
       "      <td>3.000000</td>\n",
       "      <td>5.000000</td>\n",
       "      <td>3.000000</td>\n",
       "      <td>2.000000</td>\n",
       "    </tr>\n",
       "  </tbody>\n",
       "</table>\n",
       "<p>8 rows × 87 columns</p>\n",
       "</div>"
      ],
      "text/plain": [
       "            ct_score        t_score      ct_health       t_health  \\\n",
       "count  122410.000000  122410.000000  122410.000000  122410.000000   \n",
       "mean        6.709239       6.780435     412.106568     402.714500   \n",
       "std         4.790362       4.823543     132.293290     139.919033   \n",
       "min         0.000000       0.000000       0.000000       0.000000   \n",
       "25%         3.000000       3.000000     350.000000     322.000000   \n",
       "50%         6.000000       6.000000     500.000000     500.000000   \n",
       "75%        10.000000      10.000000     500.000000     500.000000   \n",
       "max        32.000000      33.000000     500.000000     600.000000   \n",
       "\n",
       "            ct_armor        t_armor       ct_money        t_money  \\\n",
       "count  122410.000000  122410.000000  122410.000000  122410.000000   \n",
       "mean      314.142121     298.444670    9789.023773   11241.036680   \n",
       "std       171.029736     174.576545   11215.042286   12162.806759   \n",
       "min         0.000000       0.000000       0.000000       0.000000   \n",
       "25%       194.000000     174.000000    1300.000000    1550.000000   \n",
       "50%       377.000000     334.000000    5500.000000    7150.000000   \n",
       "75%       486.000000     468.000000   14600.000000   18000.000000   \n",
       "max       500.000000     500.000000   80000.000000   80000.000000   \n",
       "\n",
       "          ct_helmets      t_helmets  ...  ct_grenade_flashbang  \\\n",
       "count  122410.000000  122410.000000  ...         122410.000000   \n",
       "mean        2.053901       2.773638  ...              1.853157   \n",
       "std         1.841470       2.010915  ...              1.772791   \n",
       "min         0.000000       0.000000  ...              0.000000   \n",
       "25%         0.000000       0.000000  ...              0.000000   \n",
       "50%         2.000000       3.000000  ...              1.000000   \n",
       "75%         4.000000       5.000000  ...              3.000000   \n",
       "max         5.000000       5.000000  ...              7.000000   \n",
       "\n",
       "       t_grenade_flashbang  ct_grenade_smokegrenade  t_grenade_smokegrenade  \\\n",
       "count        122410.000000            122410.000000           122410.000000   \n",
       "mean              1.858100                 1.540814                1.627146   \n",
       "std               1.794473                 1.737804                1.829147   \n",
       "min               0.000000                 0.000000                0.000000   \n",
       "25%               0.000000                 0.000000                0.000000   \n",
       "50%               1.000000                 1.000000                1.000000   \n",
       "75%               3.000000                 3.000000                3.000000   \n",
       "max               7.000000                 6.000000                9.000000   \n",
       "\n",
       "       ct_grenade_incendiarygrenade  t_grenade_incendiarygrenade  \\\n",
       "count                 122410.000000                122410.000000   \n",
       "mean                       1.001969                     0.019819   \n",
       "std                        1.458084                     0.143933   \n",
       "min                        0.000000                     0.000000   \n",
       "25%                        0.000000                     0.000000   \n",
       "50%                        0.000000                     0.000000   \n",
       "75%                        2.000000                     0.000000   \n",
       "max                        5.000000                     3.000000   \n",
       "\n",
       "       ct_grenade_molotovgrenade  t_grenade_molotovgrenade  \\\n",
       "count              122410.000000             122410.000000   \n",
       "mean                    0.048011                  1.352095   \n",
       "std                     0.227669                  1.663246   \n",
       "min                     0.000000                  0.000000   \n",
       "25%                     0.000000                  0.000000   \n",
       "50%                     0.000000                  1.000000   \n",
       "75%                     0.000000                  2.000000   \n",
       "max                     3.000000                  5.000000   \n",
       "\n",
       "       ct_grenade_decoygrenade  t_grenade_decoygrenade  \n",
       "count            122410.000000           122410.000000  \n",
       "mean                  0.027694                0.025750  \n",
       "std                   0.169531                0.164162  \n",
       "min                   0.000000                0.000000  \n",
       "25%                   0.000000                0.000000  \n",
       "50%                   0.000000                0.000000  \n",
       "75%                   0.000000                0.000000  \n",
       "max                   3.000000                2.000000  \n",
       "\n",
       "[8 rows x 87 columns]"
      ]
     },
     "execution_count": 10,
     "metadata": {},
     "output_type": "execute_result"
    }
   ],
   "source": [
    "data.describe()"
   ]
  },
  {
   "attachments": {},
   "cell_type": "markdown",
   "metadata": {},
   "source": [
    "Comments from this exploration:\n",
    "- It's not normal to have scores upper than 16 in any team\n",
    "- Health can't be upper than 500\n",
    "- In some rounds there are 6 players (that explains the registry of 600 in health), but that shouldn't be allowed, it's, maybe, a bug\n",
    "- Players can buy as many guns as their available money allows it, so in guns and grenades it's normal to see more than 5 items per team on each category\n",
    "- Guns and grenades variables have normal values"
   ]
  },
  {
   "cell_type": "code",
   "execution_count": 11,
   "metadata": {},
   "outputs": [
    {
     "data": {
      "text/plain": [
       "0.0     12161\n",
       "3.0      9106\n",
       "5.0      8682\n",
       "4.0      8638\n",
       "1.0      8581\n",
       "6.0      8479\n",
       "7.0      8008\n",
       "8.0      7576\n",
       "2.0      7268\n",
       "9.0      7255\n",
       "10.0     6408\n",
       "11.0     6370\n",
       "12.0     6090\n",
       "13.0     5362\n",
       "14.0     5113\n",
       "15.0     4743\n",
       "18.0      686\n",
       "16.0      452\n",
       "17.0      450\n",
       "19.0      241\n",
       "21.0      200\n",
       "20.0      150\n",
       "24.0       85\n",
       "23.0       68\n",
       "25.0       38\n",
       "27.0       37\n",
       "26.0       35\n",
       "29.0       34\n",
       "28.0       28\n",
       "22.0       22\n",
       "30.0       16\n",
       "31.0       11\n",
       "33.0        9\n",
       "32.0        8\n",
       "Name: t_score, dtype: int64"
      ]
     },
     "execution_count": 11,
     "metadata": {},
     "output_type": "execute_result"
    }
   ],
   "source": [
    "#Searching for strange values in the scores variables\n",
    "unique(\"ct_score\")\n",
    "unique(\"t_score\")"
   ]
  },
  {
   "attachments": {},
   "cell_type": "markdown",
   "metadata": {},
   "source": [
    "In both scores the % of values upper than 16 is less than 5%, so I´ll replace to 16 in the numbers upper that 16"
   ]
  },
  {
   "cell_type": "code",
   "execution_count": 12,
   "metadata": {},
   "outputs": [],
   "source": [
    "#Chainging the values\n",
    "data['ct_score'] = np.where(data['ct_score'] > 16, 16, data['ct_score'])\n",
    "data['t_score'] = np.where(data['t_score'] > 16, 16, data['t_score'])\n",
    "data['t_health'] = np.where(data['t_health'] > 500, 500, data['t_health'])\n",
    "data['t_players_alive'] = np.where(data['t_players_alive'] > 500, 500, data['t_players_alive'])"
   ]
  },
  {
   "cell_type": "code",
   "execution_count": 13,
   "metadata": {},
   "outputs": [
    {
     "data": {
      "text/plain": [
       "5.0    80901\n",
       "4.0    15958\n",
       "3.0    10915\n",
       "2.0     7667\n",
       "1.0     5802\n",
       "0.0     1166\n",
       "6.0        1\n",
       "Name: t_players_alive, dtype: int64"
      ]
     },
     "execution_count": 13,
     "metadata": {},
     "output_type": "execute_result"
    }
   ],
   "source": [
    "unique(\"t_health\")\n",
    "unique(\"t_players_alive\")"
   ]
  },
  {
   "attachments": {},
   "cell_type": "markdown",
   "metadata": {},
   "source": [
    "There's only 1 observation of 6 alive players. That explains why there is 600 health points once. I'll replace the 600 health points in 500 and the 6 players number into 5"
   ]
  },
  {
   "attachments": {},
   "cell_type": "markdown",
   "metadata": {},
   "source": [
    "I will plot score, health, armor and money, that are the only numeric variables that don't are influenced directly by the players and are the only continous variables, the others are partially discreet"
   ]
  },
  {
   "cell_type": "code",
   "execution_count": 14,
   "metadata": {},
   "outputs": [
    {
     "data": {
      "image/png": "[encoded data removed]",
      "text/plain": [
       "<Figure size 600x600 with 2 Axes>"
      ]
     },
     "metadata": {},
     "output_type": "display_data"
    }
   ],
   "source": [
    "#Plotting the scores of both teams\n",
    "plt.rcParams[\"figure.figsize\"] = [7.50, 3.50]\n",
    "plt.rcParams[\"figure.autolayout\"] = True\n",
    "\n",
    "fig, axes = plt.subplots(1, 2)\n",
    "\n",
    "data[\"ct_score\"].hist(figsize=(6,6), ax=axes[0])\n",
    "data[\"t_score\"].hist(figsize=(6,6), ax=axes[1])\n",
    "\n",
    "plt.show()"
   ]
  },
  {
   "cell_type": "code",
   "execution_count": 15,
   "metadata": {},
   "outputs": [
    {
     "data": {
      "image/png": "[encoded data removed]",
      "text/plain": [
       "<Figure size 600x600 with 2 Axes>"
      ]
     },
     "metadata": {},
     "output_type": "display_data"
    }
   ],
   "source": [
    "#Plotting the health of both teams\n",
    "plt.rcParams[\"figure.figsize\"] = [7.50, 3.50]\n",
    "plt.rcParams[\"figure.autolayout\"] = True\n",
    "\n",
    "fig, axes = plt.subplots(1, 2)\n",
    "\n",
    "data[\"ct_health\"].hist(figsize=(6,6), ax=axes[0])\n",
    "data[\"t_health\"].hist(figsize=(6,6), ax=axes[1])\n",
    "\n",
    "plt.show()"
   ]
  },
  {
   "cell_type": "code",
   "execution_count": 16,
   "metadata": {},
   "outputs": [
    {
     "data": {
      "image/png": "[encoded data removed]",
      "text/plain": [
       "<Figure size 600x600 with 2 Axes>"
      ]
     },
     "metadata": {},
     "output_type": "display_data"
    }
   ],
   "source": [
    "#Plotting the armor of both teams\n",
    "plt.rcParams[\"figure.figsize\"] = [7.50, 3.50]\n",
    "plt.rcParams[\"figure.autolayout\"] = True\n",
    "\n",
    "fig, axes = plt.subplots(1, 2)\n",
    "\n",
    "data[\"ct_armor\"].hist(figsize=(6,6), ax=axes[0])\n",
    "data[\"t_armor\"].hist(figsize=(6,6), ax=axes[1])\n",
    "\n",
    "plt.show()"
   ]
  },
  {
   "cell_type": "code",
   "execution_count": 17,
   "metadata": {},
   "outputs": [
    {
     "data": {
      "image/png": "[encoded data removed]",
      "text/plain": [
       "<Figure size 600x600 with 2 Axes>"
      ]
     },
     "metadata": {},
     "output_type": "display_data"
    }
   ],
   "source": [
    "#Plotting the money of both teams\n",
    "plt.rcParams[\"figure.figsize\"] = [7.50, 3.50]\n",
    "plt.rcParams[\"figure.autolayout\"] = True\n",
    "\n",
    "fig, axes = plt.subplots(1, 2)\n",
    "\n",
    "data[\"ct_money\"].hist(figsize=(6,6), ax=axes[0])\n",
    "data[\"t_money\"].hist(figsize=(6,6), ax=axes[1])\n",
    "\n",
    "plt.show()"
   ]
  },
  {
   "attachments": {},
   "cell_type": "markdown",
   "metadata": {},
   "source": [
    "All this four variables have almost the same distribution between teams, there is no need to normalice data, at this point. This is a normal behaviour in all variables"
   ]
  },
  {
   "attachments": {},
   "cell_type": "markdown",
   "metadata": {},
   "source": [
    "### Normality tests"
   ]
  },
  {
   "attachments": {},
   "cell_type": "markdown",
   "metadata": {},
   "source": [
    "Doing some normality tests in the continous variables and normalizing if it's necessary"
   ]
  },
  {
   "cell_type": "code",
   "execution_count": 18,
   "metadata": {},
   "outputs": [
    {
     "name": "stdout",
     "output_type": "stream",
     "text": [
      "Statistics=0.949, p=0.00000\n",
      "ready\n"
     ]
    },
    {
     "name": "stderr",
     "output_type": "stream",
     "text": [
      "c:\\Users\\danie\\AppData\\Local\\Programs\\Python\\Python39\\lib\\site-packages\\scipy\\stats\\_morestats.py:1800: UserWarning: p-value may not be accurate for N > 5000.\n",
      "  warnings.warn(\"p-value may not be accurate for N > 5000.\")\n"
     ]
    }
   ],
   "source": [
    "#Normality test scores\n",
    "stat, p = shapiro(data['t_score'])\n",
    "print('Statistics=%.3f, p=%.5f' % (stat, p))\n",
    "\n",
    "#Defining what we will do depending the result\n",
    "alpha = 0.05\n",
    "if p > alpha:\n",
    "    print('Sample looks Gaussian (fail to reject H0)')\n",
    "else:\n",
    "    normalizer('t_score')\n",
    "    print('ready')"
   ]
  },
  {
   "cell_type": "code",
   "execution_count": 19,
   "metadata": {},
   "outputs": [
    {
     "name": "stdout",
     "output_type": "stream",
     "text": [
      "Statistics=0.730, p=0.00000\n",
      "ready\n"
     ]
    }
   ],
   "source": [
    "#Normality test health\n",
    "stat, p = shapiro(data['t_health'])\n",
    "print('Statistics=%.3f, p=%.5f' % (stat, p))\n",
    "\n",
    "#Defining what we will do depending the result\n",
    "alpha = 0.05\n",
    "if p > alpha:\n",
    "    print('Sample looks Gaussian (fail to reject H0)')\n",
    "else:\n",
    "    normalizer('t_health')\n",
    "    print('ready')"
   ]
  },
  {
   "cell_type": "code",
   "execution_count": 20,
   "metadata": {},
   "outputs": [
    {
     "name": "stdout",
     "output_type": "stream",
     "text": [
      "Statistics=0.876, p=0.00000\n",
      "ready\n"
     ]
    }
   ],
   "source": [
    "#Normality test armor\n",
    "stat, p = shapiro(data['ct_armor'])\n",
    "print('Statistics=%.3f, p=%.5f' % (stat, p))\n",
    "\n",
    "#Defining what we will do depending the result\n",
    "alpha = 0.05\n",
    "if p > alpha:\n",
    "    print('Sample looks Gaussian (fail to reject H0)')\n",
    "else:\n",
    "    normalizer('ct_armor')\n",
    "    print('ready')"
   ]
  },
  {
   "cell_type": "code",
   "execution_count": 21,
   "metadata": {},
   "outputs": [
    {
     "name": "stdout",
     "output_type": "stream",
     "text": [
      "Statistics=0.800, p=0.00000\n",
      "ready\n"
     ]
    }
   ],
   "source": [
    "#Normality test money\n",
    "stat, p = shapiro(data['ct_money'])\n",
    "print('Statistics=%.3f, p=%.5f' % (stat, p))\n",
    "\n",
    "#Defining what we will do depending the result\n",
    "alpha = 0.05\n",
    "if p > alpha:\n",
    "    print('Sample looks Gaussian (fail to reject H0)')\n",
    "else:\n",
    "    normalizer('ct_money')\n",
    "    print('ready')"
   ]
  },
  {
   "cell_type": "code",
   "execution_count": 22,
   "metadata": {},
   "outputs": [
    {
     "name": "stdout",
     "output_type": "stream",
     "text": [
      "ct_score                       float64\n",
      "t_score                        float64\n",
      "map                             object\n",
      "bomb_planted                      bool\n",
      "ct_health                      float64\n",
      "                                ...   \n",
      "t_grenade_incendiarygrenade    float64\n",
      "ct_grenade_molotovgrenade      float64\n",
      "t_grenade_molotovgrenade       float64\n",
      "ct_grenade_decoygrenade        float64\n",
      "t_grenade_decoygrenade         float64\n",
      "Length: 89, dtype: object\n"
     ]
    }
   ],
   "source": [
    "print(data.dtypes)"
   ]
  },
  {
   "cell_type": "code",
   "execution_count": 23,
   "metadata": {},
   "outputs": [],
   "source": [
    "#Creating train and test subsets\n",
    "X_train, X_test, y_train, y_test = train_test_split(data, y, test_size=0.3, random_state=20)"
   ]
  },
  {
   "attachments": {},
   "cell_type": "markdown",
   "metadata": {},
   "source": [
    "After reviewing the data, there is no need to treat the numeric data because it is standarized data, where nas are changed to 0 before we receive it"
   ]
  },
  {
   "attachments": {},
   "cell_type": "markdown",
   "metadata": {},
   "source": [
    "## Pipelines to clean the data"
   ]
  },
  {
   "attachments": {},
   "cell_type": "markdown",
   "metadata": {},
   "source": [
    "### Categoric Pipeline"
   ]
  },
  {
   "cell_type": "code",
   "execution_count": 24,
   "metadata": {},
   "outputs": [],
   "source": [
    "#Categorical pipeline to encode the posible options\n",
    "categoric_pipeline = Pipeline([\n",
    "                        ('Imputador', SimpleImputer(strategy=\"most_frequent\")),\n",
    "                        ('ohe', OneHotEncoder())\n",
    "                        ])"
   ]
  },
  {
   "attachments": {},
   "cell_type": "markdown",
   "metadata": {},
   "source": [
    "Testing the pipeline. Categoricas contains the raw columns, categorical contains the processed data"
   ]
  },
  {
   "cell_type": "code",
   "execution_count": 25,
   "metadata": {},
   "outputs": [
    {
     "data": {
      "text/plain": [
       "array([0., 1., 0., 0., 0., 0., 0., 0., 1., 0.])"
      ]
     },
     "execution_count": 25,
     "metadata": {},
     "output_type": "execute_result"
    }
   ],
   "source": [
    "#Test of the categorical pipeline\n",
    "categorical = categoric_pipeline.fit_transform(data.select_dtypes(exclude='number'))\n",
    "categorical.toarray()[0,:]"
   ]
  },
  {
   "attachments": {},
   "cell_type": "markdown",
   "metadata": {},
   "source": [
    "### Full pipeline"
   ]
  },
  {
   "cell_type": "code",
   "execution_count": 26,
   "metadata": {},
   "outputs": [],
   "source": [
    "#Putting together the pipeline of cleaning. I'm leaving this pipeline because I might add the numbers part and I \n",
    "#define here which cols will be processed\n",
    "categorical_attributes = data.select_dtypes(exclude='number').columns \n",
    "\n",
    "full_cleaning_pipeline = ColumnTransformer([\n",
    "        (\"categorics\", categoric_pipeline, categorical_attributes)\n",
    "    ])"
   ]
  },
  {
   "cell_type": "code",
   "execution_count": 27,
   "metadata": {},
   "outputs": [
    {
     "name": "stdout",
     "output_type": "stream",
     "text": [
      "(85687, 10)\n",
      "(36723, 10)\n"
     ]
    }
   ],
   "source": [
    "#Test of the cleaning pipeline\n",
    "full_cleaning_pipeline.fit(data)\n",
    "ready_Xtrain = full_cleaning_pipeline.transform(X_train)\n",
    "ready_Xtest = full_cleaning_pipeline.transform(X_test)\n",
    "\n",
    "print(ready_Xtrain.shape)\n",
    "print(ready_Xtest.shape)"
   ]
  },
  {
   "attachments": {},
   "cell_type": "markdown",
   "metadata": {},
   "source": [
    "## Model"
   ]
  },
  {
   "attachments": {},
   "cell_type": "markdown",
   "metadata": {},
   "source": [
    "### Models selection\n",
    "My first approach will be using random forest to try to predict the winner"
   ]
  },
  {
   "cell_type": "code",
   "execution_count": 28,
   "metadata": {},
   "outputs": [
    {
     "name": "stdout",
     "output_type": "stream",
     "text": [
      "Random Forest Classifier:\n",
      "\n",
      "F1: 0.557441058859389\n",
      "Precision Score: 0.5574367299483081\n",
      "Recall Score: 0.5576069493233123\n"
     ]
    }
   ],
   "source": [
    "#Testing the Random Forest model in the pipeline\n",
    "randomF_test = Pipeline([\n",
    "        (\"data_preparation\", full_cleaning_pipeline),\n",
    "        (\"RFM\", RandomForestClassifier(n_estimators=500, max_leaf_nodes=16\n",
    "                                       , random_state=42, n_jobs=-1))\n",
    "    ])\n",
    "\n",
    "randomF_test.fit(X_train, y_train)\n",
    "predicted_vals1 = randomF_test.predict(X_test)\n",
    "\n",
    "#Results\n",
    "print('Random Forest Classifier:\\n')\n",
    "print('F1: {0}'.format(f1_score(y_test,predicted_vals1,average='weighted')))\n",
    "print('Precision Score: {0}'.format(precision_score(y_test,predicted_vals1,average='weighted')))\n",
    "print('Recall Score: {0}'.format(recall_score(y_test,predicted_vals1, average='weighted')))"
   ]
  },
  {
   "attachments": {},
   "cell_type": "markdown",
   "metadata": {},
   "source": [
    "Trying Ada Boost regresor"
   ]
  },
  {
   "cell_type": "code",
   "execution_count": 29,
   "metadata": {},
   "outputs": [
    {
     "name": "stdout",
     "output_type": "stream",
     "text": [
      "Ada Boost Classifier:\n",
      "\n",
      "F1: 0.5564817907861249\n",
      "Precision Score: 0.5602165667608054\n",
      "Recall Score: 0.557960950902704\n"
     ]
    }
   ],
   "source": [
    "#Testing the Ada Boost Classifier in the pipeline\n",
    "adaB_test = Pipeline([\n",
    "        (\"data_preparation\", full_cleaning_pipeline),\n",
    "        (\"ABR\", AdaBoostClassifier(n_estimators=600,learning_rate=1, algorithm='SAMME'))\n",
    "    ])\n",
    "\n",
    "adaB_test.fit(X_train, y_train)\n",
    "predicted_vals2 = adaB_test.predict(X_test)\n",
    "\n",
    "#Results\n",
    "print('Ada Boost Classifier:\\n')\n",
    "print('F1: {0}'.format(f1_score(y_test,predicted_vals2,average='weighted')))\n",
    "print('Precision Score: {0}'.format(precision_score(y_test,predicted_vals2,average='weighted')))\n",
    "print('Recall Score: {0}'.format(recall_score(y_test,predicted_vals2, average='weighted')))"
   ]
  },
  {
   "attachments": {},
   "cell_type": "markdown",
   "metadata": {},
   "source": [
    "In some cases, a Tree works better that a Forest, so I will try it"
   ]
  },
  {
   "cell_type": "code",
   "execution_count": 30,
   "metadata": {},
   "outputs": [
    {
     "name": "stdout",
     "output_type": "stream",
     "text": [
      "Decision Tree Classifier:\n",
      "\n",
      "F1: 0.557441058859389\n",
      "Precision Score: 0.5574367299483081\n",
      "Recall Score: 0.5576069493233123\n"
     ]
    }
   ],
   "source": [
    "#Testing the Decision Tree model in the pipeline\n",
    "decisionT_test = Pipeline([\n",
    "        (\"data_preparation\", full_cleaning_pipeline),\n",
    "        (\"DTR\", DecisionTreeClassifier())\n",
    "    ])\n",
    "\n",
    "decisionT_test.fit(X_train, y_train)\n",
    "predicted_vals3 = decisionT_test.predict(X_test)\n",
    "\n",
    "#Results\n",
    "print('Decision Tree Classifier:\\n')\n",
    "print('F1: {0}'.format(f1_score(y_test,predicted_vals3,average='weighted')))\n",
    "print('Precision Score: {0}'.format(precision_score(y_test,predicted_vals3,average='weighted')))\n",
    "print('Recall Score: {0}'.format(recall_score(y_test,predicted_vals3, average='weighted')))"
   ]
  },
  {
   "attachments": {},
   "cell_type": "markdown",
   "metadata": {},
   "source": [
    "Trying with One vs One approach"
   ]
  },
  {
   "cell_type": "code",
   "execution_count": 31,
   "metadata": {},
   "outputs": [
    {
     "name": "stdout",
     "output_type": "stream",
     "text": [
      "One vs One:\n",
      "\n",
      "F1: 0.4733174085816809\n",
      "Precision Score: 0.6528122466340107\n",
      "Recall Score: 0.5521880020695477\n"
     ]
    }
   ],
   "source": [
    "#Testing the One vs One model in the pipeline\n",
    "ovo_test = Pipeline([\n",
    "        (\"data_preparation\", full_cleaning_pipeline),\n",
    "        (\"OVO\", OneVsOneClassifier(SGDClassifier(random_state=42)))\n",
    "    ])\n",
    "\n",
    "ovo_test.fit(X_train, y_train)\n",
    "predicted_vals4 = ovo_test.predict(X_test)\n",
    "\n",
    "#Results\n",
    "print('One vs One:\\n')\n",
    "print('F1: {0}'.format(f1_score(y_test,predicted_vals4,average='weighted')))\n",
    "print('Precision Score: {0}'.format(precision_score(y_test,predicted_vals4,average='weighted')))\n",
    "print('Recall Score: {0}'.format(recall_score(y_test,predicted_vals4, average='weighted')))"
   ]
  },
  {
   "attachments": {},
   "cell_type": "markdown",
   "metadata": {},
   "source": [
    "Finally, trying Extreme Gradient Boosting"
   ]
  },
  {
   "cell_type": "code",
   "execution_count": 32,
   "metadata": {},
   "outputs": [],
   "source": [
    "#I need to translate to 0 and 1 the objective variable because XGBoost requieres that change\n",
    "modifier = pd.DataFrame(y_train)\n",
    "modifier[\"round_winner\"] = modifier[\"round_winner\"] .map({'CT': 1, 'T': 0})\n",
    "y_train_xgb = modifier.squeeze()\n",
    "\n",
    "modifier = pd.DataFrame(y_test)\n",
    "modifier[\"round_winner\"] = modifier[\"round_winner\"] .map({'CT': 1, 'T': 0})\n",
    "y_test_xgb = modifier.squeeze()"
   ]
  },
  {
   "cell_type": "code",
   "execution_count": 33,
   "metadata": {},
   "outputs": [
    {
     "name": "stdout",
     "output_type": "stream",
     "text": [
      "Extreme Gradient Descent model:\n",
      "\n",
      "F1: 0.557441058859389\n",
      "Precision Score: 0.5574367299483081\n",
      "Recall Score: 0.5576069493233123\n"
     ]
    }
   ],
   "source": [
    "#Testing the Extreme Gradient Descent model in the pipeline\n",
    "extremeG_test = Pipeline([\n",
    "        (\"data_preparation\", full_cleaning_pipeline),\n",
    "        (\"XGB\", XGBClassifier())\n",
    "    ])\n",
    "\n",
    "extremeG_test.fit(X_train, y_train_xgb)\n",
    "predicted_vals5 = extremeG_test.predict(X_test)\n",
    "\n",
    "#Results\n",
    "print('Extreme Gradient Descent model:\\n')\n",
    "print('F1: {0}'.format(f1_score(y_test_xgb,predicted_vals5,average='weighted')))\n",
    "print('Precision Score: {0}'.format(precision_score(y_test_xgb,predicted_vals5,average='weighted')))\n",
    "print('Recall Score: {0}'.format(recall_score(y_test_xgb,predicted_vals5, average='weighted')))"
   ]
  },
  {
   "attachments": {},
   "cell_type": "markdown",
   "metadata": {},
   "source": [
    "Results discussion:\n",
    "- All models showed a fair enough F1, but it could be better\n",
    "- The best models, Random Forest and XGBoost had the same F1\n",
    "- One vs One was the worst model, but was better compared to OvA, model that I didn't included"
   ]
  },
  {
   "attachments": {},
   "cell_type": "markdown",
   "metadata": {},
   "source": [
    "###  Final Model\n",
    "I'll use XGBoost this time to use another model, not the traditional one. For that model I'll use a Params Grid to tune it"
   ]
  },
  {
   "cell_type": "code",
   "execution_count": 34,
   "metadata": {},
   "outputs": [],
   "source": [
    "#Creating a grid search for the model and defining it\n",
    "params = {\n",
    "        'min_child_weight': [1, 5, 10, 15],\n",
    "        'gamma': [0.5, 1, 1.5, 2, 5],\n",
    "        'subsample': [0.6, 0.8, 1.0],\n",
    "        'colsample_bytree': [0.6, 0.8, 1.0, 1.2],\n",
    "        'max_depth': [3, 4, 5],\n",
    "        'learning_rate': [0.01, 0.05, 0.1, 0.5, 1],\n",
    "        'n_estimators': [200,400,600,800,100]\n",
    "        }\n",
    "\n",
    "xgb = XGBClassifier(objective='binary:logistic',\n",
    "                    silent=True, nthread=1)"
   ]
  },
  {
   "cell_type": "code",
   "execution_count": 35,
   "metadata": {},
   "outputs": [
    {
     "name": "stdout",
     "output_type": "stream",
     "text": [
      "Fitting 5 folds for each of 7 candidates, totalling 35 fits\n"
     ]
    },
    {
     "name": "stderr",
     "output_type": "stream",
     "text": [
      "c:\\Users\\danie\\AppData\\Local\\Programs\\Python\\Python39\\lib\\site-packages\\sklearn\\model_selection\\_validation.py:378: FitFailedWarning: \n",
      "20 fits failed out of a total of 35.\n",
      "The score on these train-test partitions for these parameters will be set to nan.\n",
      "If these failures are not expected, you can try to debug them by setting error_score='raise'.\n",
      "\n",
      "Below are more details about the failures:\n",
      "--------------------------------------------------------------------------------\n",
      "20 fits failed with the following error:\n",
      "Traceback (most recent call last):\n",
      "  File \"c:\\Users\\danie\\AppData\\Local\\Programs\\Python\\Python39\\lib\\site-packages\\sklearn\\model_selection\\_validation.py\", line 686, in _fit_and_score\n",
      "    estimator.fit(X_train, y_train, **fit_params)\n",
      "  File \"c:\\Users\\danie\\AppData\\Local\\Programs\\Python\\Python39\\lib\\site-packages\\xgboost\\core.py\", line 620, in inner_f\n",
      "    return func(**kwargs)\n",
      "  File \"c:\\Users\\danie\\AppData\\Local\\Programs\\Python\\Python39\\lib\\site-packages\\xgboost\\sklearn.py\", line 1490, in fit\n",
      "    self._Booster = train(\n",
      "  File \"c:\\Users\\danie\\AppData\\Local\\Programs\\Python\\Python39\\lib\\site-packages\\xgboost\\core.py\", line 620, in inner_f\n",
      "    return func(**kwargs)\n",
      "  File \"c:\\Users\\danie\\AppData\\Local\\Programs\\Python\\Python39\\lib\\site-packages\\xgboost\\training.py\", line 185, in train\n",
      "    bst.update(dtrain, i, obj)\n",
      "  File \"c:\\Users\\danie\\AppData\\Local\\Programs\\Python\\Python39\\lib\\site-packages\\xgboost\\core.py\", line 1918, in update\n",
      "    _check_call(_LIB.XGBoosterUpdateOneIter(self.handle,\n",
      "  File \"c:\\Users\\danie\\AppData\\Local\\Programs\\Python\\Python39\\lib\\site-packages\\xgboost\\core.py\", line 279, in _check_call\n",
      "    raise XGBoostError(py_str(_LIB.XGBGetLastError()))\n",
      "xgboost.core.XGBoostError: value 1.2 for Parameter colsample_bytree exceed bound [0,1]\n",
      "colsample_bytree: Subsample ratio of columns, resample on each tree construction.\n",
      "\n",
      "  warnings.warn(some_fits_failed_message, FitFailedWarning)\n",
      "c:\\Users\\danie\\AppData\\Local\\Programs\\Python\\Python39\\lib\\site-packages\\sklearn\\model_selection\\_search.py:953: UserWarning: One or more of the test scores are non-finite: [       nan        nan        nan 0.57076874 0.54975335 0.55017961\n",
      "        nan]\n",
      "  warnings.warn(\n"
     ]
    },
    {
     "name": "stdout",
     "output_type": "stream",
     "text": [
      "[15:56:39] WARNING: C:\\buildkite-agent\\builds\\buildkite-windows-cpu-autoscaling-group-i-07593ffd91cd9da33-1\\xgboost\\xgboost-ci-windows\\src\\learner.cc:767: \n",
      "Parameters: { \"silent\" } are not used.\n",
      "\n",
      "\n",
      " Best hyperparameters:\n",
      "{'subsample': 1.0, 'n_estimators': 200, 'min_child_weight': 15, 'max_depth': 3, 'learning_rate': 0.05, 'gamma': 0.5, 'colsample_bytree': 0.6}\n"
     ]
    }
   ],
   "source": [
    "#Generating the best case of the model\n",
    "folds = 5\n",
    "param_comb = 7\n",
    "\n",
    "xgb_search = RandomizedSearchCV(xgb, param_distributions=params, n_iter=param_comb, scoring='f1', n_jobs=4, verbose=3, random_state=1001)\n",
    "\n",
    "xgb_search.fit(ready_Xtrain, y_train_xgb)\n",
    "print('\\n Best hyperparameters:')\n",
    "print(xgb_search.best_params_)"
   ]
  },
  {
   "cell_type": "code",
   "execution_count": 38,
   "metadata": {},
   "outputs": [
    {
     "name": "stdout",
     "output_type": "stream",
     "text": [
      "DecisionTreeClassifier:\n",
      "\n",
      "F1: 0.5564817907861249\n",
      "Precision Score: 0.5602165667608054\n",
      "Recall Score: 0.557960950902704\n"
     ]
    }
   ],
   "source": [
    "#Final pipeline to predict the round winner\n",
    "predictor_pipeline = Pipeline([\n",
    "        (\"data_preparation\", full_cleaning_pipeline),\n",
    "        (\"XGB\", XGBClassifier(subsample = 1.0, n_estimators = 200, min_child_weight = 15, \n",
    "                              max_depth = 3, learning_rate = 0.05, gamma = 0.5, colsample_bytree = 0.6))\n",
    "    ])\n",
    "\n",
    "predictor_pipeline.fit(X_train, y_train_xgb)\n",
    "predicted_vals = predictor_pipeline.predict(X_test)\n",
    "\n",
    "print('DecisionTreeClassifier:\\n')\n",
    "print('F1: {0}'.format(f1_score(y_test_xgb,predicted_vals,average='weighted')))\n",
    "print('Precision Score: {0}'.format(precision_score(y_test_xgb,predicted_vals,average='weighted')))\n",
    "print('Recall Score: {0}'.format(recall_score(y_test_xgb,predicted_vals, average='weighted')))\n",
    "\n",
    "#My results are generated in 0 and 1. I already mapped from CT/T to 1/0 respectively, now I'm coming back to the team letter\n",
    "modifier = pd.DataFrame(predicted_vals)\n",
    "modifier[\"round_winner\"] = modifier[0].map({1: 'CT', 0: 'T'})\n",
    "predicted_vals = modifier[\"round_winner\"].squeeze()\n",
    "\n",
    "cm = confusion_matrix(y_test,predicted_vals)"
   ]
  },
  {
   "cell_type": "code",
   "execution_count": 39,
   "metadata": {},
   "outputs": [
    {
     "data": {
      "text/plain": [
       "<AxesSubplot: >"
      ]
     },
     "execution_count": 39,
     "metadata": {},
     "output_type": "execute_result"
    },
    {
     "data": {
      "image/png": "[encoded data removed]",
      "text/plain": [
       "<Figure size 1000x700 with 2 Axes>"
      ]
     },
     "metadata": {},
     "output_type": "display_data"
    }
   ],
   "source": [
    "plt.figure(figsize = (10,7))\n",
    "sns.heatmap(cm, annot=True, cmap='Blues', fmt='g')"
   ]
  },
  {
   "attachments": {},
   "cell_type": "markdown",
   "metadata": {},
   "source": [
    "Conclusions:\n",
    "* There was no difference between XGBoost and Random Forest, both were predicting almost the same\n",
    "* In the maps that were in the dataset, CT teams have some advantage and CT teams had won more games, that explains why the model give priority to CT teams instead of T teams\n",
    "* All the models were showing the same behaviour during the train and test because the data had more than it was required"
   ]
  },
  {
   "attachments": {},
   "cell_type": "markdown",
   "metadata": {},
   "source": [
    "Recomendations:\n",
    "* The dataset was so explicit that had all the guns in the game, including some that were not used in any round. I would be more efficient to store in string names the guns and grenades that were used\n",
    "* It is required to know about the game, some things would not be really clear to people without the game knowledge\n",
    "* Search for the variables that better predict the result in order to remove the ones that doesn't add to the models. That is to reduce complexity, time and computing energy"
   ]
  }
 ],
 "metadata": {
  "kernelspec": {
   "display_name": "Python 3",
   "language": "python",
   "name": "python3"
  },
  "language_info": {
   "codemirror_mode": {
    "name": "ipython",
    "version": 3
   },
   "file_extension": ".py",
   "mimetype": "text/x-python",
   "name": "python",
   "nbconvert_exporter": "python",
   "pygments_lexer": "ipython3",
   "version": "3.9.13"
  },
  "orig_nbformat": 4
 },
 "nbformat": 4,
 "nbformat_minor": 2
}
